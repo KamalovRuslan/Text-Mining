{
 "cells": [
  {
   "cell_type": "markdown",
   "metadata": {
    "deletable": true,
    "editable": true
   },
   "source": [
    "## Лабораторная работа №1 (курс \"Математические методы анализа текстов\")"
   ]
  },
  {
   "cell_type": "markdown",
   "metadata": {
    "deletable": true,
    "editable": true
   },
   "source": [
    "#### Тема: Определение частей речи и выделение именованных сущностей.\n",
    "\n",
    "\n",
    "**Выдана**:   25 февраля 2017\n",
    "\n",
    "**Дедлайн**:   <font color='red'>9:00 утра 13 марта 2017</font>\n",
    "\n",
    "**Среда выполнения**: Jupyter Notebook (Python 2.7)\n",
    "\n",
    "#### Правила:\n",
    "\n",
    "Результат выполнения задания - отчет в формате Jupyter Notebook с кодом и выводами. В ходе выполнения задания требуется реализовать все необходимые алгоритмы, провести эксперименты и ответить на поставленные вопросы. Дополнительные выводы приветствуются. Чем меньше кода и больше комментариев - тем лучше.\n",
    "\n",
    "Все ячейки должны быть \"выполненными\", при этом результат должен воспроизвдиться при проверке (на Python 2.7). Если какой-то код не был запущен или отрабатывает с ошибками, то пункт не засчитывается. Задание, сданное после дедлайна, _не принимается_. Совсем.\n",
    "\n",
    "\n",
    "Задание выполняется самостоятельно. Вы можете обсуждать идеи, объяснять друг другу материал, но не можете обмениваться частями своего кода. Если какие-то студенты будут уличены в списывании, все они автоматически получат за эту работу 0 баллов, а также предвзято негативное отношение семинаристов в будущем. Если вы нашли в Интернете какой-то код, который собираетесь заимствовать, обязательно укажите это в задании: вполне вероятно, что вы не единственный, кто найдёт и использует эту информацию."
   ]
  },
  {
   "cell_type": "markdown",
   "metadata": {
    "deletable": true,
    "editable": true
   },
   "source": [
    "#### Постановка задачи:\n",
    "\n",
    "В данной лабораторной работе вам предстоит:\n",
    "\n",
    "- обучить скрытую марковскую модель на размеченных данных и реализовать алгоритм Витерби для задачи POS-теггинга (определение частей речи слов в тексте)\n",
    "\n",
    "- научиться использовать ряд POS-теггеров из библиотеки NLTK и сравнить качество их работы\n",
    "\n",
    "- придумать различные признаки для CRF и использовать их в реализации CRF из пакета CRFsuite для решения задачи NER (выделение именованных сущностей в тексте)\n",
    "\n",
    "- использовать готовое решение для решения задачи NER и сравнить качество"
   ]
  },
  {
   "cell_type": "markdown",
   "metadata": {
    "deletable": true,
    "editable": true
   },
   "source": [
    "#### Комментарии и советы:\n",
    "\n",
    "1. Для выполнения потребуются модули Python numpy, nltk, pycrfsuite (для импорта последнего нужно установить пакет python-crfsuite).\n",
    "\n",
    "2. Все необходимые для выполнения задания данные либо приложены, либо могут быть скачаны с помощью nltk.download().\n",
    "\n",
    "3. Посмотреть параметры конструктора и других методов классов можно набрав и выполнив в ячейке с кодом '?full_method_name'.\n",
    "\n",
    "4. В коде Stanford NER tagger, возможно, присутствует ошибка. Для её устранения в файле /usr/local/lib/python2.7/site-packages/nltk/tag/api.py (или его аналоге в Windows) замените строку с номером 66 на следующую: tagged_sents = self.tag_sents([untag(sent) for sent in gold])"
   ]
  },
  {
   "cell_type": "markdown",
   "metadata": {
    "deletable": true,
    "editable": true
   },
   "source": [
    "### 1. Определение частей речи (POS)"
   ]
  },
  {
   "cell_type": "markdown",
   "metadata": {
    "deletable": true,
    "editable": true
   },
   "source": [
    "Мы будем решать задачу определения частей речи (POS-теггинга) с помощью скрытой марковской модели (HMM). Формула совместной плотности наблюдаемых и скрытых переменных задается как\n",
    "\n",
    "$$ p(X, T) = p(T) p(X|T) = p(t_1)  \\prod_{i=2}^N p(t_i|t_{i-1}) \\prod_{i=1}^N p(x_i|t_i)$$\n",
    "\n",
    "В данном случае:\n",
    "\n",
    "- наблюдаемые переменные $X$ - это слова корпуса;\n",
    "\n",
    "- скрытые переменные $T$ - это POS-теги."
   ]
  },
  {
   "cell_type": "markdown",
   "metadata": {
    "deletable": true,
    "editable": true
   },
   "source": [
    "#### 1.1. Обучение HMM на размеченных данных\n",
    "\n",
    "Требуется построить скрытую марковскую модель и настроить все ее параметры с помощью оценок максимального правдоподобия по размеченным данным (последовательности пар слово+тег):\n",
    "\n",
    "- Вероятности переходов между скрытыми состояниями $p(t_i | t_{i - 1})$ посчитайте на основе частот биграмм POS-тегов.\n",
    "\n",
    "- Вероятности эмиссий наблюдаемых состояний $p(x_i | t_i)$ посчитайте на основе частот \"POS-тег - слово\".\n",
    "\n",
    "- Обратите внимание на проблему разреженности счетчиков и сделаейте все вероятности сглаженными по Лапласу (add-one smoothing).\n",
    "\n",
    "- Распределение вероятностей начальных состояний $p(t_1)$ задайте равномерным.\n",
    "\n",
    "Обратите внимание, что так как мы используем размеченные данные, то у нас нет необходимости в оценивании апостериорных вероятностей на скрытые переменные с помощью алгоритма forward-backword и использовании EM-алгоритма."
   ]
  },
  {
   "cell_type": "code",
   "execution_count": 1,
   "metadata": {
    "collapsed": false,
    "deletable": true,
    "editable": true
   },
   "outputs": [],
   "source": [
    "import numpy as np\n",
    "from sklearn.base import BaseEstimator\n",
    "        \n",
    "\n",
    "class HMM(BaseEstimator) :\n",
    "    \n",
    "    def __init__(self, sequence, labels) :\n",
    "        \n",
    "        print('Построение модели...')\n",
    "        \n",
    "        self.labels_dict = dict(zip(labels, range(len(labels))))\n",
    "        word_unic = set([word[0] for word in sequence])\n",
    "        ends_unic = set([word[0][-2:] for word in sequence])\n",
    "        self.word_dict = dict(zip(word_unic, range(len(word_unic))))\n",
    "        self.ends_dict = dict(zip(ends_unic, range(len(word_unic))))\n",
    "        self.labels = labels\n",
    "        self.label_dist = np.zeros(len(labels))\n",
    "        \n",
    "        self.start_dist = 1 / len(labels) * np.ones(len(labels))\n",
    "        self.ll_matrix = np.ones((len(labels),len(labels)))\n",
    "        self.wl_matrix = np.ones((len(word_unic), len(labels)))\n",
    "        self.ends_matrix = np.ones((len(ends_unic), len(labels)))\n",
    "        self.unknown_list = []\n",
    "        \n",
    "        print('Модель построена')\n",
    "    \n",
    "    def fit(self, sequence) :\n",
    "        \n",
    "        print('Обучение модели...')\n",
    "        \n",
    "        self.wl_matrix[self.word_dict.get(sequence[0][0])][self.labels_dict.get(sequence[0][1])] += 1\n",
    "        self.label_dist[self.labels_dict.get(sequence[0][1])] += 1\n",
    "        self.ends_matrix[self.ends_dict.get(sequence[0][0][-2:])][self.labels_dict.get(sequence[0][1])] += 1\n",
    "        for i in range(1 , len(sequence)) :\n",
    "            \n",
    "            self.ll_matrix[self.labels_dict.get(sequence[i-1][1])][self.labels_dict.get(sequence[i][1])] += 1\n",
    "            self.wl_matrix[self.word_dict.get(sequence[i][0])][self.labels_dict.get(sequence[i][1])] += 1\n",
    "            self.ends_matrix[self.ends_dict.get(sequence[i][0][-2:])][self.labels_dict.get(sequence[i][1])] += 1\n",
    "            self.label_dist[self.labels_dict.get(sequence[i][1])] += 1\n",
    "        \n",
    "        self.label_dist /= len(sequence)\n",
    "        \n",
    "        ll_sum = self.ll_matrix.sum(axis = 1)\n",
    "        wl_sum = self.wl_matrix.sum(axis = 0)\n",
    "        ends_sum = self.ends_matrix.sum(axis = 0)\n",
    "            \n",
    "        self.ll_matrix = np.array([self.ll_matrix[i, :] / ll_sum[i] for i in range(self.ll_matrix.shape[0])])\n",
    "        self.wl_matrix = np.array([self.wl_matrix[:, i] / wl_sum[i] for i in range(self.wl_matrix.shape[1])]).T\n",
    "        self.ends_matrix = np.array([self.ends_matrix[:, i] / ends_sum[i] for i in range(self.wl_matrix.shape[1])]).T\n",
    "        \n",
    "        print('Модель обучена')\n",
    "    \n",
    "    def viterbi_algorithm(self, test_token_list) :\n",
    "        \n",
    "        print('Выполняется...')\n",
    "        \n",
    "        delta = np.zeros((len(self.labels), len(test_token_list)))\n",
    "        s = np.zeros((len(self.labels), len(test_token_list) - 1))\n",
    "        unknown_count = 0\n",
    "        answer = []\n",
    "        \n",
    "        \n",
    "        delta[:, 0] = np.array([np.log(self.start_dist[i]) + \\\n",
    "                                np.log(self.wl_matrix[self.word_dict.get(test_token_list[0])][i]) for i in range(len(self.labels))])\n",
    "        for i in range(1, len(test_token_list)) :\n",
    "            d_delta = delta[:, i-1]\n",
    "            if test_token_list[i] in self.word_dict :\n",
    "                word_idx = self.word_dict.get(test_token_list[i])\n",
    "                delta[:, i] = np.array([max(d_delta + np.log(self.ll_matrix[:, k])) + \\\n",
    "                                            np.log(self.wl_matrix[word_idx][k]) for k in range(len(labels))])\n",
    "                s[:, i - 1] = np.array([np.argmax(d_delta + np.log(self.ll_matrix[:, k])) for k in range(len(labels))])\n",
    "            elif test_token_list[i][-2:] in self.ends_dict :\n",
    "                ends_idx = self.ends_dict.get(test_token_list[i][-2:])\n",
    "                delta[:, i] = np.array([max(d_delta + np.log(self.ll_matrix[:, k])) + \\\n",
    "                                            np.log(self.ends_matrix[ends_idx][k]) for k in range(len(labels))])\n",
    "                s[:, i - 1] = np.array([np.argmax(d_delta + np.log(self.ll_matrix[:, k])) for k in range(len(labels))])\n",
    "            else :\n",
    "                self.unknown_list.append(i)\n",
    "                unknown_count += 1\n",
    "        \n",
    "        last_state = np.argmax(delta[:, len(test_token_list) - 1])\n",
    "        answer.append(last_state)\n",
    "        for i in range(s.shape[1] - 1, -1 , -1) :\n",
    "            last_state = int(s[last_state, i])\n",
    "            answer.append(last_state)\n",
    "        \n",
    "        tmp_list = self.labels\n",
    "        for i in self.labels_dict :\n",
    "            tmp_list[self.labels_dict.get(i)] = i\n",
    "            \n",
    "        predict = []\n",
    "        for i in range(len(answer)) :\n",
    "            predict.append(tmp_list[answer[i]])\n",
    "        predict = predict[::-1]\n",
    "        print('Готово')\n",
    "        \n",
    "        return predict\n",
    "    \n",
    "    def get_ll_matrix(self) :\n",
    "        return self.ll_matrix\n",
    "    \n",
    "    def get_wl_matrix(self) :\n",
    "        return self.wl_matrix\n",
    "    \n",
    "    def get_label_dist(self) :\n",
    "        return self.label_dist\n",
    "    \n",
    "    def get_word_dict(self) :\n",
    "        return self.word_dict\n",
    "    \n",
    "    def get_ends_matrix(self) :\n",
    "        return self.ends_matrix\n",
    "    def get_unknown_list(self) :\n",
    "        return self.unknown_list\n",
    "    def get_labels_dict(self):\n",
    "        return self.labels_dict"
   ]
  },
  {
   "cell_type": "markdown",
   "metadata": {
    "deletable": true,
    "editable": true
   },
   "source": [
    "Загрузите brown корпус с универсальной системой тегирования. Для этого вам понадобятся ресурсы brown и universal_tagset из nltk.download().  В этой системе содержатся следующие теги:\n",
    "\n",
    "- ADJ - adjective (new, good, high, ...)\n",
    "- ADP - adposition\t(on, of, at, ...)\n",
    "- ADV - adverb\t(really, already, still, ...)\n",
    "- CONJ\t- conjunction\t(and, or, but, ...)\n",
    "- DET - determiner, article\t(the, a, some, ...)\n",
    "- NOUN\t- noun\t(year, home, costs, ...)\n",
    "- NUM - numeral\t(twenty-four, fourth, 1991, ...)\n",
    "- PRT -\tparticle (at, on, out, ...)\n",
    "- PRON - pronoun (he, their, her, ...)\n",
    "- VERB - verb (is, say, told, ...)\n",
    "- .\t- punctuation marks\t(. , ;)\n",
    "- X\t- other\t(ersatz, esprit, dunno, ...)\n",
    "\n",
    "Обратите внимание, что тегсеты в корпусах текстов и в различных теггерах могут быть разными. Проверять это можно, глядя на сами теги, а симптом - подозрительно низкое качество теггирования. В таких случаях рекомендуется всё приводить сперва к универсальному тегсету, а потом уже мерять качество. Полезной может оказаться эта ссылка http://www.nltk.org/_modules/nltk/tag/mapping.html\n",
    "\n",
    "Проанализируйте данные, с которыми Вы работаете. В частности, ответьте на вопросы:\n",
    "- Каков общий объем датасета, формат?\n",
    "- Приведены ли слова к нижнему регистру? Чем  это нам может в дальнейшем помешать?\n",
    "- Как распределены слова в корпусе?  Как распределены теги в корпусе? Подсчитайте частоты и отобразите любым удобным для Вас способом. Проинтерпретируйте полученные результаты.\n",
    "\n",
    "Задем сделайте случайное разбиение выборки на обучение и контроль в отношении 9:1 и обучите скрытую марковскую модель из предыдущего пункта. Если впоследствии обучение моделей будет занимать слишком много времени, работайте с подвыборкой, например, только текстами определенных категорий."
   ]
  },
  {
   "cell_type": "code",
   "execution_count": 2,
   "metadata": {
    "collapsed": false,
    "deletable": true,
    "editable": true
   },
   "outputs": [],
   "source": [
    "import random\n",
    "\n",
    "def train_test_split(text, ratio = 0.9) :\n",
    "    \n",
    "    random.shuffle(text)\n",
    "    end_train = int(0.9 * len(text))\n",
    "    return text[: end_train], text[end_train : ]"
   ]
  },
  {
   "cell_type": "code",
   "execution_count": 3,
   "metadata": {
    "collapsed": false,
    "deletable": true,
    "editable": true
   },
   "outputs": [],
   "source": [
    "from nltk import corpus\n",
    "brown_tagged_set = corpus.brown.tagged_sents(tagset=\"universal\")\n",
    "train, test = train_test_split(list(brown_tagged_set))"
   ]
  },
  {
   "cell_type": "code",
   "execution_count": 4,
   "metadata": {
    "collapsed": true,
    "deletable": true,
    "editable": true
   },
   "outputs": [],
   "source": [
    "listmerge = lambda t : [el for lst in t for el in lst]\n",
    "train, test = listmerge(train), listmerge(test)"
   ]
  },
  {
   "cell_type": "code",
   "execution_count": 5,
   "metadata": {
    "collapsed": false,
    "deletable": true,
    "editable": true
   },
   "outputs": [
    {
     "name": "stdout",
     "output_type": "stream",
     "text": [
      "Объем датасета =  1161192 слов\n"
     ]
    }
   ],
   "source": [
    "print(\"Объем датасета = \", len(train) + len(test), \"слов\")"
   ]
  },
  {
   "cell_type": "code",
   "execution_count": 6,
   "metadata": {
    "collapsed": false,
    "deletable": true,
    "editable": true
   },
   "outputs": [],
   "source": [
    "train = [(t[0].lower(), t[1]) for t in train]\n",
    "test = [(t[0].lower(), t[1]) for t in test]"
   ]
  },
  {
   "cell_type": "markdown",
   "metadata": {
    "deletable": true,
    "editable": true
   },
   "source": [
    "Слова в корпусе не были приведены к нижнему регистру, что может сильно увеличить размер словаря и снизить качество разметки."
   ]
  },
  {
   "cell_type": "code",
   "execution_count": 7,
   "metadata": {
    "collapsed": true,
    "deletable": true,
    "editable": true
   },
   "outputs": [],
   "source": [
    "labels = ['ADJ', 'ADP', 'ADV', 'CONJ', 'DET', 'NOUN', 'NUM', 'PRT', 'PRON', 'VERB', '.', 'X']"
   ]
  },
  {
   "cell_type": "code",
   "execution_count": 8,
   "metadata": {
    "collapsed": false,
    "deletable": true,
    "editable": true
   },
   "outputs": [
    {
     "name": "stdout",
     "output_type": "stream",
     "text": [
      "Построение модели...\n",
      "Модель построена\n"
     ]
    }
   ],
   "source": [
    "hmm = HMM(train, labels)"
   ]
  },
  {
   "cell_type": "code",
   "execution_count": 9,
   "metadata": {
    "collapsed": false,
    "deletable": true,
    "editable": true
   },
   "outputs": [
    {
     "name": "stdout",
     "output_type": "stream",
     "text": [
      "Обучение модели...\n",
      "Модель обучена\n",
      "Время обучения  5.350347995758057  секунд\n"
     ]
    }
   ],
   "source": [
    "import time\n",
    "t = time.time()\n",
    "hmm.fit(train)\n",
    "print(\"Время обучения \", time.time() - t, \" секунд\")"
   ]
  },
  {
   "cell_type": "code",
   "execution_count": 13,
   "metadata": {
    "collapsed": false,
    "deletable": true,
    "editable": true
   },
   "outputs": [],
   "source": [
    "import seaborn\n",
    "import matplotlib.pyplot as plt\n",
    "d_w = {}\n",
    "d_l = {}\n",
    "for w in train :\n",
    "    if w[0] in d_w :\n",
    "        d_w[str(w[0])] = d_w[str(w[0])] + 1\n",
    "    else :\n",
    "        d_w[str(w[0])] = 1\n",
    "    if w[1] in d_l :\n",
    "        d_l[str(w[1])] = d_l[str(w[1])] + 1\n",
    "    else :\n",
    "        d_l[str(w[1])] = 1\n",
    "w_sorted = sorted(d_w.items(), key=lambda t: t[1], reverse=True)\n",
    "w_sorted = w_sorted[:20]"
   ]
  },
  {
   "cell_type": "markdown",
   "metadata": {
    "deletable": true,
    "editable": true
   },
   "source": [
    "# Частоты по словам"
   ]
  },
  {
   "cell_type": "code",
   "execution_count": 14,
   "metadata": {
    "collapsed": false,
    "deletable": true,
    "editable": true
   },
   "outputs": [
    {
     "data": {
      "image/png": "[encoded data removed]",
      "text/plain": [
       "<matplotlib.figure.Figure at 0x7fd35fa4d828>"
      ]
     },
     "metadata": {},
     "output_type": "display_data"
    }
   ],
   "source": [
    "seaborn.barplot([i[0] for i in w_sorted[:20]], [i[1] for i in w_sorted[:20]])\n",
    "plt.show()"
   ]
  },
  {
   "cell_type": "markdown",
   "metadata": {
    "deletable": true,
    "editable": true
   },
   "source": [
    "График частот слов согласуется с законом Ципфа."
   ]
  },
  {
   "cell_type": "markdown",
   "metadata": {
    "deletable": true,
    "editable": true
   },
   "source": [
    "# Частоты по частям речи"
   ]
  },
  {
   "cell_type": "code",
   "execution_count": 17,
   "metadata": {
    "collapsed": false,
    "deletable": true,
    "editable": true
   },
   "outputs": [
    {
     "data": {
      "image/png": "[encoded data removed]",
      "text/plain": [
       "<matplotlib.figure.Figure at 0x7fd365ac6320>"
      ]
     },
     "metadata": {},
     "output_type": "display_data"
    }
   ],
   "source": [
    "l_sorted = sorted(d_l.items(), key=lambda t: t[1], reverse=True)\n",
    "seaborn.barplot([i[0]for i in l_sorted], [i[1] for i in l_sorted])\n",
    "plt.show()"
   ]
  },
  {
   "cell_type": "markdown",
   "metadata": {
    "deletable": true,
    "editable": true
   },
   "source": [
    "Как и ожидалось наиболее часто встречающимися оказались существительные."
   ]
  },
  {
   "cell_type": "code",
   "execution_count": 18,
   "metadata": {
    "collapsed": false,
    "deletable": true,
    "editable": true
   },
   "outputs": [],
   "source": [
    "test_list = [t[0].lower() for t in test]\n",
    "test_tags = [t[1] for t in test]"
   ]
  },
  {
   "cell_type": "code",
   "execution_count": 19,
   "metadata": {
    "collapsed": false,
    "deletable": true,
    "editable": true
   },
   "outputs": [
    {
     "name": "stdout",
     "output_type": "stream",
     "text": [
      "Выполняется...\n",
      "Готово\n",
      "Время предсказания  30.09011220932007  секунд\n"
     ]
    }
   ],
   "source": [
    "t = time.time()\n",
    "predict = hmm.viterbi_algorithm(test_list)\n",
    "print(\"Время предсказания \", time.time() - t, \" секунд\")"
   ]
  },
  {
   "cell_type": "markdown",
   "metadata": {
    "deletable": true,
    "editable": true
   },
   "source": [
    "#### 1.2 Алгоритм Витерби для применения модели\n",
    "\n",
    "Чтобы использовать обученную модель для определения частей речи на новых данных, необходимо реализовать алгоритм Витерби. Это алгоритм динамиеского программирования, с помощью которого мы будем находить наиболее вероятную последовательность скрытых состояний модели для фиксированной последовательности слов:\n",
    "\n",
    "$$ \\hat{T} = \\arg \\max_{T} p(T|X) = \\arg \\max_{T} p(X, T) $$"
   ]
  },
  {
   "cell_type": "markdown",
   "metadata": {
    "deletable": true,
    "editable": true
   },
   "source": [
    "Определим функцию, определяющую максимальную вероятность последовательности, заканчивающейся на $i$-ой позиции в состоянии $k$:\n",
    "\n",
    "$$\\delta(k, i) = \\max_{t_1, \\dots t_{i-1}} p(x_1, \\dots x_i, t_1, \\dots t_i=k)$$\n",
    "\n",
    "Тогда $\\max_{k} \\delta(k, N)$ - максимальная вероятность всей последовательности. А состояния, на которых эта вероятность достигается - ответ задачи.\n",
    "\n",
    "Алгоритм Витерби заключается в последовательном пересчете функции $\\delta(k, i)$ по формуле:\n",
    "\n",
    "$$\\delta(k, i) = \\max_{m} \\delta(m, i-1) p(t_i = k|t_{i-1} = m) p(x_i|t_i=k) $$\n",
    "\n",
    "Аналогично пересчитывается функция, определяющая, на каком состоянии этот максимум достигается:\n",
    "\n",
    "$$s(k, i) = \\arg \\max_{m} \\delta(m, i-1) p(t_i = k|t_{i-1} = m) p(x_i|t_i=k) $$\n",
    "\n",
    "\n",
    "На практике это означает заполнение двумерных массивов размерности: (длина последовательности) $\\times$ (количество возможных состояний). Когда массивы заполнены, $\\arg \\max_{k} \\delta(k, N)$ говорит о последнем состоянии. Начиная с него можно восстановить все состояния по массиву $s$. \n",
    "\n",
    "Осталось уточнить, как стартовать последовательный пересчет (чем заполнить первый столбец массива вероятностей):\n",
    "\n",
    "$$\\delta(k, 1) = p(k) p(x_1|t_1=k)$$\n",
    "\n",
    "В реализации рекомендуется перейти к логарифмам, т.к. произведение большого числа маленьких вероятностей может приводить к вычислительным ошибкам."
   ]
  },
  {
   "cell_type": "markdown",
   "metadata": {
    "deletable": true,
    "editable": true
   },
   "source": [
    "Проверьте работу реализованного алгоритма на следующих модельных примерах, проинтерпретируйте результат.\n",
    "\n",
    "- 'he can stay'\n",
    "- 'a milk can'\n",
    "- 'i saw a dog'\n",
    "- 'an old saw'"
   ]
  },
  {
   "cell_type": "code",
   "execution_count": 20,
   "metadata": {
    "collapsed": false,
    "deletable": true,
    "editable": true
   },
   "outputs": [
    {
     "name": "stdout",
     "output_type": "stream",
     "text": [
      "Выполняется...\n",
      "Готово\n",
      "Выполняется...\n",
      "Готово\n",
      "Выполняется...\n",
      "Готово\n",
      "Выполняется...\n",
      "Готово\n"
     ]
    }
   ],
   "source": [
    "predict1 = hmm.viterbi_algorithm(['he', 'can', 'stay'])\n",
    "predict2 = hmm.viterbi_algorithm(['a', 'milk', 'can'])\n",
    "predict3 = hmm.viterbi_algorithm(['i', 'saw', 'a', 'dog'])\n",
    "predict4 = hmm.viterbi_algorithm(['an', 'old', 'saw'])"
   ]
  },
  {
   "cell_type": "code",
   "execution_count": 21,
   "metadata": {
    "collapsed": false,
    "deletable": true,
    "editable": true
   },
   "outputs": [
    {
     "name": "stdout",
     "output_type": "stream",
     "text": [
      "['PRON', 'VERB', 'VERB']\n",
      "['DET', 'NOUN', 'VERB']\n",
      "['PRON', 'VERB', 'DET', 'NOUN']\n",
      "['DET', 'ADJ', 'VERB']\n"
     ]
    }
   ],
   "source": [
    "print(predict1)\n",
    "print(predict2)\n",
    "print(predict3)\n",
    "print(predict4)"
   ]
  },
  {
   "cell_type": "markdown",
   "metadata": {
    "deletable": true,
    "editable": true
   },
   "source": [
    "Неправильно определилась часть слова 'saw' в 4 примере. Возможно не хватило статистики на обучении, но выглядит странно."
   ]
  },
  {
   "cell_type": "markdown",
   "metadata": {
    "deletable": true,
    "editable": true
   },
   "source": [
    "Примените модель к отложенной выборке Брауновского корпуса и подсчитайте точность определения тегов (accuracy). Сделайте выводы. "
   ]
  },
  {
   "cell_type": "code",
   "execution_count": 22,
   "metadata": {
    "collapsed": false,
    "deletable": true,
    "editable": true
   },
   "outputs": [
    {
     "name": "stdout",
     "output_type": "stream",
     "text": [
      "HMM model accuracy =  0.944401564492\n"
     ]
    }
   ],
   "source": [
    "from sklearn.metrics import accuracy_score\n",
    "print(\"HMM model accuracy = \", accuracy_score(test_tags, predict))"
   ]
  },
  {
   "cell_type": "markdown",
   "metadata": {
    "deletable": true,
    "editable": true
   },
   "source": [
    "На отложенной выборке алгоритм показывает хорошее качество, думаю тут помогла обработка незнакомых слов (а не просто объявление их \"unknown\"). "
   ]
  },
  {
   "cell_type": "markdown",
   "metadata": {
    "deletable": true,
    "editable": true
   },
   "source": [
    "#### 1.3. Готовые POS-теггеры из NLTK"
   ]
  },
  {
   "cell_type": "markdown",
   "metadata": {
    "deletable": true,
    "editable": true
   },
   "source": [
    "В прошлом пункте Вы реализовали свой POS-тегер на основе скрытой марковской модели. Теперь сравните его работу с готовыми средставми, доступными в библиотеке NLTK: http://www.nltk.org/api/nltk.tag.html"
   ]
  },
  {
   "cell_type": "markdown",
   "metadata": {
    "deletable": true,
    "editable": true
   },
   "source": [
    "Примерный набор кандидатов для сравнения:\n",
    "- Простейший теггер, который всем словам ставит в соответствие одну и ту же метку\n",
    "- Основанный на правилах RegexpTagger (правила можно поискать в Интернете или придумать самим)\n",
    "- N-граммные теггеры (разберитесь и поэкспериментируйте с параметром backoff)\n",
    "- Теггеры на основе графических моделей (можно взять только Stanford): \n",
    "    - HiddenMarkovModelTagger\n",
    "    - CRFTagger\n",
    "    - StanfordPOSTagger (потребуется .jar файл теггера и обученная модель (легко находятся в Интернете), чтобы подать на вход конструктору класса)\n",
    "- BrillTagger, основанный на трансформациях\n",
    "\n",
    "Если работа с какими-то модулями приводит к техническим проблемам, которые Вы не можете решить, это не страшно, модуль можно пропустить. Однако навык быстрого освоения документации / поиска моделей в гугле полезен.  Чем более полным и корректным будет сравнение, тем лучше.\n",
    "\n",
    "При проведении экспериментов обращайте внимание на следующие моменты (и отразите их в отчете):\n",
    "- Какой подход лежит в основе теггера\n",
    "- На каких данных он обучен (если Вы скачали готовую модель)\n",
    "- Сколько времени занимает обучение на brown корпусе (если обучаете сами)\n",
    "- Какая точность получается на контролькой выборке (метод evaluate())\n",
    "\n",
    "Сформируйте рекоммендиции о том, какую технологию Вы бы использовали, если встретитесь с задачей определения частей речи в будущем."
   ]
  },
  {
   "cell_type": "code",
   "execution_count": 23,
   "metadata": {
    "collapsed": false,
    "deletable": true,
    "editable": true
   },
   "outputs": [],
   "source": [
    "import nltk\n",
    "from nltk.tag import DefaultTagger\n",
    "from nltk.tag import RegexpTagger\n",
    "from nltk.tag import UnigramTagger\n",
    "from nltk.tag import BigramTagger\n",
    "from nltk.tag import TrigramTagger\n",
    "from nltk.tag import  HiddenMarkovModelTagger\n",
    "from nltk.tag import CRFTagger\n",
    "from nltk.tag.stanford import StanfordPOSTagger\n",
    "from nltk.tag import BrillTagger"
   ]
  },
  {
   "cell_type": "code",
   "execution_count": 24,
   "metadata": {
    "collapsed": false,
    "deletable": true,
    "editable": true
   },
   "outputs": [
    {
     "name": "stdout",
     "output_type": "stream",
     "text": [
      "DefaultTagger время обучения 0.13225936889648438\n",
      "DefaultTagger accuracy =  0.23733620099\n"
     ]
    }
   ],
   "source": [
    "default_tagger = DefaultTagger('NOUN')\n",
    "t = time.time()\n",
    "default_predict = list(default_tagger.tag(test_list))\n",
    "print(\"DefaultTagger время обучения\", time.time() - t)\n",
    "print(\"DefaultTagger accuracy = \",accuracy_score(test_tags, [dp[1] for dp in default_predict]))"
   ]
  },
  {
   "cell_type": "markdown",
   "metadata": {
    "deletable": true,
    "editable": true
   },
   "source": [
    "Default Tagger просто проставляет всем словам в выборке одну метку. Это самый простой тэггер."
   ]
  },
  {
   "cell_type": "code",
   "execution_count": 25,
   "metadata": {
    "collapsed": false,
    "deletable": true,
    "editable": true
   },
   "outputs": [
    {
     "name": "stdout",
     "output_type": "stream",
     "text": [
      "RegexpTagger время обучения 5.140694618225098\n",
      "RegexpTagger accuracy =  0.644450996887\n"
     ]
    }
   ],
   "source": [
    "import re\n",
    "regexp_tagger = RegexpTagger(\n",
    "    [(r'^-?[0-9]+(.[0-9]+)?$', 'NUM'),   \n",
    "    (r'\\W+?$', '.'),\n",
    "    (r'(The|the|A|a|An|an|some|Some)$', 'DET'),   \n",
    "    (r'(one|two|tree|four|five|six|seven|eight|nine|ten|eleven|twelve)$', 'NUM'),\n",
    "    (r'(on|in|at|near|over|under|between|among|behind|across|through|to|towards|from|into|during|before|after|between)$', 'ADP'),\n",
    "    (r'(also|and|as|because|but|however|if|once|or|still|so|than|that|)$', 'CONJ'),\n",
    "    (r'(therefore|although|thus|what|while|yet|for|with|without)$', 'CONJ'),\n",
    "    (r'(i|you|he|she|it|we|they|me|him|her|it|us|them|other|another)$', 'PRON'),\n",
    "    (r'.*one$', 'NUM'),\n",
    "    (r'.*two$', 'NUM'),\n",
    "    (r'.*three$', 'NUM'),\n",
    "    (r'.*four$', 'NUM'),\n",
    "    (r'.*five$', 'NUM'),\n",
    "    (r'.*six$', 'NUM'),\n",
    "    (r'.*seven$', 'NUM'),\n",
    "    (r'.*eight$', 'NUM'),\n",
    "    (r'.*nine$', 'NUM'),\n",
    "    (r'.*th$', 'NUM'),\n",
    "    (r'.*able$', 'ADJ'),\n",
    "    (r'.*ful$', 'ADJ'),\n",
    "    (r'.*less$', 'ADJ'),\n",
    "    (r'.*ible$', 'ADJ'),\n",
    "    (r'.*ic$', 'ADJ'),\n",
    "    (r'.*ical$', 'ADJ'),\n",
    "    (r'.*ous$', 'ADJ'),\n",
    "    (r'.*ate$', 'ADJ'),\n",
    "    (r'.*ish$', 'ADJ'),\n",
    "    (r'.*ive$', 'ADJ'),\n",
    "    (r'.*ness$', 'NOUN'),                \n",
    "    (r'.*ly$', 'ADV'),\n",
    "    (r'.*ically$', 'ADV'),\n",
    "    (r'.*s$', 'NOUN'),                 \n",
    "    (r'.*ing$', 'VERB'),               \n",
    "    (r'.*ed$', 'VERB'),\n",
    "    (r'.*en$', 'VERB'),\n",
    "    (r'.*ize$', 'VERB'),\n",
    "    (r'.*fy$', 'VERB'),\n",
    "    (r'.*', 'NOUN')                     \n",
    " ])\n",
    "t = time.time()\n",
    "regexp_predict = list(regexp_tagger.tag(test_list))\n",
    "print(\"RegexpTagger время обучения\", time.time() - t)\n",
    "print(\"RegexpTagger accuracy = \",accuracy_score(test_tags, [rp[1] for rp in regexp_predict]))"
   ]
  },
  {
   "cell_type": "markdown",
   "metadata": {
    "deletable": true,
    "editable": true
   },
   "source": [
    "RegexpTagger уже более проодвинутый тэггер. Его работа построена на перечне правил, с помощью которых он размечает слова. Работает довольно быстро, но качество плохое. Думаю, что если напридумывать еще кучу правил, можно добиться отностильно неплохого качества."
   ]
  },
  {
   "cell_type": "code",
   "execution_count": 26,
   "metadata": {
    "collapsed": false,
    "deletable": true,
    "editable": true
   },
   "outputs": [
    {
     "name": "stdout",
     "output_type": "stream",
     "text": [
      "UnigrammTagger время обучения 0.6842460632324219\n",
      "UnigrammTagger accuracy =  0.8455098176019137\n"
     ]
    }
   ],
   "source": [
    "brown_tagged_sents = corpus.brown.tagged_sents(categories='news', tagset = 'universal')\n",
    "size = int(len(brown_tagged_sents) * 0.9)\n",
    "train_sents = brown_tagged_sents[:size]\n",
    "test_sents = brown_tagged_sents[size:]\n",
    "t = time.time()\n",
    "unigram_tagger = UnigramTagger(train_sents)\n",
    "print(\"UnigrammTagger время обучения\", time.time() - t)\n",
    "print(\"UnigrammTagger accuracy = \",unigram_tagger.evaluate(test_sents))"
   ]
  },
  {
   "cell_type": "markdown",
   "metadata": {
    "deletable": true,
    "editable": true
   },
   "source": [
    "Униграммный тэггер ставит в соответствие слову ниболее вероятный тэг, который определяется по обучающему корпусу. \n",
    "Обучение n-gramm тэггеров проводилось на brown корпусе, катеория \"news\". "
   ]
  },
  {
   "cell_type": "code",
   "execution_count": 27,
   "metadata": {
    "collapsed": false,
    "deletable": true,
    "editable": true
   },
   "outputs": [
    {
     "name": "stdout",
     "output_type": "stream",
     "text": [
      "BigrammTagger время обучения 1.2607378959655762\n",
      "BigrammTagger accuracy =  0.8497956742748929\n"
     ]
    }
   ],
   "source": [
    "t = time.time()\n",
    "bigram_tagger = BigramTagger(train_sents, backoff = unigram_tagger)\n",
    "print(\"BigrammTagger время обучения\", time.time() - t)\n",
    "print(\"BigrammTagger accuracy = \",bigram_tagger.evaluate(test_sents))"
   ]
  },
  {
   "cell_type": "markdown",
   "metadata": {
    "deletable": true,
    "editable": true
   },
   "source": [
    "Биграммный тэггер в качестве контекста использует не только сам токен, но и тэг предыдущего слова и проставляет наиболее вероятный тэг в соответствии с контекстом текущего слова. Если корпус небольшой, то тэггеру может не хватить статистики на пару (слово, предущий тэг) и качество будет неудовлетворительным. Выходом может быть композиция тэггеров. Я применил композицию биграм-тэггера и униграм-тэггера. Параметр backoff определяет алгоритм, который будет применен для разметки в случае, если не справился текущий. Качество такого тэггера заметно лучше по сравнению с тэгерром без параметра backoff и немного лучше по сравнению с униграммным тэггером. "
   ]
  },
  {
   "cell_type": "code",
   "execution_count": 28,
   "metadata": {
    "collapsed": false,
    "deletable": true,
    "editable": true
   },
   "outputs": [
    {
     "name": "stdout",
     "output_type": "stream",
     "text": [
      "TrigrammTagger время обучения =  1.6026456356048584\n",
      "TrigrammTagger accuracy =  0.8479019236519486\n"
     ]
    }
   ],
   "source": [
    "t = time.time()\n",
    "trigram_tagger = TrigramTagger(train_sents, backoff = bigram_tagger)\n",
    "print(\"TrigrammTagger время обучения = \",time.time() - t)\n",
    "print(\"TrigrammTagger accuracy = \",trigram_tagger.evaluate(test_sents))"
   ]
  },
  {
   "cell_type": "markdown",
   "metadata": {
    "deletable": true,
    "editable": true
   },
   "source": [
    "Здесь в контекст добавился еще тэг предпредыдущего слова. Качество практически не изменилось. "
   ]
  },
  {
   "cell_type": "code",
   "execution_count": 16,
   "metadata": {
    "collapsed": false,
    "deletable": true,
    "editable": true
   },
   "outputs": [],
   "source": [
    "import os\n",
    "from nltk.tag.stanford import StanfordPOSTagger\n",
    "os.environ['CLASSPATH'] = os.path.join(\n",
    "   os.path.curdir, 'stanford-postagger-2015-04-20'\n",
    ")\n",
    "os.environ['STANFORD_MODELS'] = os.path.join(\n",
    "    os.path.curdir, 'stanford-postagger-2015-04-20', 'models'\n",
    ")\n",
    "stanford_tagger = StanfordPOSTagger('english-bidirectional-distsim.tagger')"
   ]
  },
  {
   "cell_type": "code",
   "execution_count": 30,
   "metadata": {
    "collapsed": false,
    "deletable": true,
    "editable": true
   },
   "outputs": [
    {
     "name": "stdout",
     "output_type": "stream",
     "text": [
      "StanfordPOSTagger время =  9.85373854637146\n"
     ]
    }
   ],
   "source": [
    "import nltk.tag.mapping\n",
    "import time\n",
    "ts = [el[0] for lst in test_sents for el in lst]\n",
    "t = time.time()\n",
    "ts_tagging = stanford_tagger.tag(ts)\n",
    "print(\"StanfordPOSTagger время = \", time.time() - t)"
   ]
  },
  {
   "cell_type": "code",
   "execution_count": 31,
   "metadata": {
    "collapsed": false,
    "deletable": true,
    "editable": true
   },
   "outputs": [],
   "source": [
    "ts_tagging = [nltk.tag.mapping.map_tag('en-ptb', 'universal', t[1]) for t in ts_tagging]"
   ]
  },
  {
   "cell_type": "code",
   "execution_count": 32,
   "metadata": {
    "collapsed": false,
    "deletable": true,
    "editable": true
   },
   "outputs": [
    {
     "name": "stdout",
     "output_type": "stream",
     "text": [
      "StanfordPOSTagger accuracy =  0.928934516097\n"
     ]
    }
   ],
   "source": [
    "print(\"StanfordPOSTagger accuracy = \", accuracy_score(ts_tagging,[el[1] for lst in test_sents for el in lst]))"
   ]
  },
  {
   "cell_type": "markdown",
   "metadata": {
    "deletable": true,
    "editable": true
   },
   "source": [
    "В основе Stanford тэггера модель максималльной энтропиии. Обучен на brown корпусе, катеория \"news\". Качество высокое, работает быстро."
   ]
  },
  {
   "cell_type": "code",
   "execution_count": 33,
   "metadata": {
    "collapsed": false,
    "deletable": true,
    "editable": true
   },
   "outputs": [],
   "source": [
    "from nltk.tag import BrillTaggerTrainer\n",
    "\n",
    "trainer = BrillTaggerTrainer(unigram_tagger, nltk.tag.brill.brill24(), 3, ruleformat=\"str\")"
   ]
  },
  {
   "cell_type": "code",
   "execution_count": 34,
   "metadata": {
    "collapsed": false,
    "deletable": true,
    "editable": true
   },
   "outputs": [
    {
     "name": "stdout",
     "output_type": "stream",
     "text": [
      "TBL train (fast) (seqs: 4160; tokens: 90521; tpls: 24; min score: 3; min acc: None)\n",
      "Finding initial useful rules...\n",
      "    Found 29930 useful rules.\n",
      "\n",
      "           B      |\n",
      "   S   F   r   O  |        Score = Fixed - Broken\n",
      "   c   i   o   t  |  R     Fixed = num tags changed incorrect -> correct\n",
      "   o   x   k   h  |  u     Broken = num tags changed correct -> incorrect\n",
      "   r   e   e   e  |  l     Other = num tags changed incorrect -> incorrect\n",
      "   e   d   n   r  |  e\n",
      "------------------+-------------------------------------------------------\n",
      " 274 391 117   3  | PRT->ADP if Pos:DET@[1]\n",
      "  61  88  27   1  | PRT->ADP if Pos:NOUN@[1] & Pos:NOUN@[2]\n",
      "  51  62  11   0  | NOUN->VERB if Pos:PRT@[-1] & Pos:DET@[1]\n",
      "  35  56  21   1  | PRT->ADP if Pos:NUM@[1]\n",
      "  38  42   4   0  | ADP->PRT if Word:up@[0]\n",
      "  35  65  30   1  | PRT->ADP if Pos:NOUN@[-1] & Pos:NOUN@[1]\n",
      "  36  36   0   0  | ADP->PRT if Word:all@[0]\n",
      "  34  52  18   0  | PRT->ADP if Pos:ADJ@[1] & Pos:NOUN@[2]\n",
      "  26  51  25   0  | VERB->NOUN if Pos:DET@[-1] & Pos:ADP@[1]\n",
      "  25  47  22   0  | ADP->ADV if Word:as@[2]\n",
      "  23  23   0   0  | NOUN->VERB if Word:would@[-1]\n",
      "  21  21   0   0  | ADP->PRT if Word:out@[0]\n",
      "  20  20   0   0  | NOUN->VERB if Word:will@[-1]\n",
      "  18  38  20   4  | ADP->PRON if Pos:VERB@[1] & Pos:VERB@[2]\n",
      "  16  21   5   1  | VERB->NOUN if Pos:ADJ@[-1] & Pos:.@[1]\n",
      "  15  39  24   0  | PRT->ADP if Pos:NOUN@[1] & Pos:.@[2]\n",
      "  18  18   0   0  | ADP->PRT if Word:all@[0]\n",
      "  13  13   0   0  | ADJ->PRT if Word:such@[0] & Word:a@[1] & Pos:DET@[1]\n",
      "  11  25  14   0  | NOUN->VERB if Pos:PRON@[-1]\n",
      "  11  12   1   0  | ADV->ADJ if Word:most@[0] & Word:of@[1] & Pos:ADP@[1]\n",
      "  10  16   6   3  | PRT->ADP if Pos:PRON@[1]\n",
      "  10  10   0   0  | ADV->ADP if Word:so@[0] & Word:that@[1] & Pos:ADP@[1]\n",
      "   9  36  27   0  | VERB->NOUN if Pos:ADJ@[-1] & Pos:ADP@[1]\n",
      "   9  12   3   0  | NOUN->VERB if Word:not@[-1]\n",
      "   9   9   0   0  | ADV->ADP if Word:in@[0]\n",
      "   9   9   0   0  | ADV->ADP if Word:around@[0] & Word:the@[1] & Pos:DET@[1]\n",
      "   9  22  13   0  | PRT->ADP if Word:out@[0] & Word:of@[1] & Pos:ADP@[1]\n",
      "   8   8   0   0  | ADP->PRT if Word:All@[0,1]\n",
      "   8   8   0   0  | ADJ->ADV if Word:only@[0] & Word:not@[-1] & Pos:ADV@[-1]\n",
      "   7   8   1   0  | ADJ->VERB if Pos:PRT@[-1] & Pos:DET@[1]\n",
      "   7  11   4   0  | NOUN->VERB if Pos:PRT@[1] & Pos:DET@[2]\n",
      "   7   7   0   4  | ADP->PRT if Word:half@[0,1]\n",
      "   7   7   0   0  | ADP->DET if Word:that@[0] & Word:of@[-1] & Pos:ADP@[-1]\n",
      "   7   8   1   0  | ADP->DET if Word:that@[0] & Word:of@[1] & Pos:ADP@[1]\n",
      "   7   7   0   0  | ADP->VERB if Word:like@[0] & Word:to@[1] & Pos:PRT@[1]\n",
      "   6   6   0   0  | ADJ->VERB if Word:will@[-1]\n",
      "   6   6   0   0  | NOUN->VERB if Word:can@[-1]\n",
      "   6   6   0   0  | PRON->ADP if Word:being@[1]\n",
      "   6   6   0   0  | ADP->PRT if Word:up@[0]\n",
      "   6   9   3   0  | ADJ->ADV if Word:little@[0] & Word:a@[-1] & Pos:DET@[-1]\n",
      "   6   8   2   2  | ADV->ADJ if Pos:DET@[-1] & Pos:NOUN@[1]\n",
      "   6   7   1   0  | PRT->ADP if Word:to@[0] & Word:came@[-1] & Pos:VERB@[-1]\n",
      "   6  10   4   0  | ADP->ADV if Word:because@[0] & Word:of@[1] & Pos:ADP@[1]\n",
      "   6   6   0   0  | ADP->DET if Word:that@[0] & Word:time@[1] & Pos:NOUN@[1]\n",
      "   5   5   0   1  | ADP->ADJ if Word:the@[-1]\n",
      "   5   5   0   0  | ADP->NOUN if Word:a@[-1]\n",
      "   5   5   0   0  | NUM->NOUN if Word:no@[-1]\n",
      "   5   5   0   0  | DET->NOUN if Word:&@[1]\n",
      "   5   5   0   0  | ADV->ADP if Word:of@[0]\n",
      "   5   5   0   0  | ADP->ADV if Word:about@[0] & Word:for@[-1] & Pos:ADP@[-1]\n",
      "   5   7   2   0  | ADV->ADP if Word:so@[0] & Word:,@[-1] & Pos:.@[-1]\n",
      "   5   6   1   0  | ADJ->ADV if Word:long@[0] & Word:as@[1] & Pos:ADP@[1]\n",
      "   5   5   0   0  | ADJ->NOUN if Word:top@[0] & Word:of@[1] & Pos:ADP@[1]\n",
      "   5   6   1   0  | ADJ->NOUN if Word:worth@[0] & Word:of@[1] & Pos:ADP@[1]\n",
      "   5   5   0   5  | ADP->DET if Word:that@[0] & Word:is@[1] & Pos:VERB@[1]\n",
      "   5  12   7   0  | ADJ->ADV if Pos:ADJ@[1] & Pos:ADP@[2]\n",
      "   5   5   0   0  | ADP->PRT if Word:on@[0] & Word:to@[1] & Pos:PRT@[1]\n",
      "   4   8   4   3  | ADJ->NOUN if Pos:NOUN@[-1] & Pos:CONJ@[1]\n",
      "   4   5   1   0  | ADP->DET if Pos:ADP@[-1] & Pos:.@[1]\n",
      "   4   5   1   0  | NOUN->VERB if Pos:PRON@[1] & Pos:ADP@[2]\n",
      "   4   4   0   1  | ADJ->ADV if Word:can@[-1]\n",
      "   5   5   0   0  | NOUN->VERB if Word:only@[-1] & Pos:ADV@[-1]\n",
      "   4   4   0   2  | ADP->PRT if Word:bring@[-1]\n",
      "   5   6   1   0  | PRT->ADV if Word:about@[0]\n",
      "   4   5   1   0  | ADP->PRT if Word:took@[-1]\n",
      "   4   5   1   1  | ADJ->PRT if Word:an@[1]\n",
      "   4   4   0   0  | ADP->PRON if Word:are@[1]\n",
      "   4   4   0   0  | PRT->ADP if Word:school@[1]\n",
      "   4   4   0   0  | NOUN->VERB if Word:failed@[-2]\n",
      "   4   4   0   0  | ADP->ADV if Word:There@[-1,0]\n",
      "   4   4   0   1  | ADP->ADV if Word:there@[0]\n",
      "   4   4   0   0  | PRON->ADP if Word:in@[0]\n",
      "   4   4   0   0  | ADJ->ADV if Word:more@[0] & Word:a@[-1] & Pos:DET@[-1]\n",
      "   4   7   3   0  | ADJ->NOUN if Word:West@[0] & Word:the@[-1] & Pos:DET@[-1]\n",
      "   4   4   0   0  | ADP->PRON if Word:that@[0] & Word:one@[-1] & Pos:NUM@[-1]\n",
      "   4   4   0   0  | ADP->PRT if Word:in@[0] & Word:come@[-1] & Pos:VERB@[-1]\n",
      "   4   4   0   0  | ADP->PRT if Word:over@[0] & Word:take@[-1] & Pos:VERB@[-1]\n",
      "   4   4   0   0  | ADV->NOUN if Word:back@[0] & Word:the@[-1] & Pos:DET@[-1]\n",
      "   4   4   0   0  | NOUN->VERB if Word:run@[0] & Word:to@[-1] & Pos:PRT@[-1]\n",
      "   4   5   1   0  | PRT->ADP if Word:to@[0] & Word:up@[-1] & Pos:PRT@[-1]\n",
      "   4   4   0   0  | VERB->NOUN if Word:turn@[0] & Word:in@[-1] & Pos:ADP@[-1]\n",
      "   4   4   0   0  | ADJ->ADV if Word:early@[0] & Word:in@[1] & Pos:ADP@[1]\n",
      "   4   4   0   0  | ADP->PRT if Word:in@[0] & Word:on@[1] & Pos:ADP@[1]\n",
      "   4   4   0   0  | DET->PRON if Word:her@[0] & Word:.@[1] & Pos:.@[1]\n",
      "   4   4   0   0  | NOUN->VERB if Word:return@[0] & Word:to@[1] & Pos:ADP@[1]\n",
      "   3   3   0   0  | ADJ->NOUN if Pos:DET@[-1] & Pos:DET@[1]\n",
      "   3   4   1   1  | PRT->ADP if Pos:ADJ@[-1] & Pos:ADJ@[1]\n",
      "   3   4   1   0  | NOUN->VERB if Pos:PRON@[-2] & Pos:ADV@[-1]\n",
      "   3   3   0   0  | PRT->ADV if Pos:ADV@[-2] & Pos:CONJ@[-1]\n",
      "   3   3   0   0  | PRT->ADP if Pos:ADJ@[1] & Pos:ADJ@[2]\n",
      "   3   3   0   0  | ADJ->ADV if Word:once@[-1]\n",
      "   3   3   0   0  | ADJ->NOUN if Word:Chicago@[-1]\n",
      "   3   3   0   0  | ADJ->NOUN if Word:Middle@[-1]\n",
      "   3   3   0   0  | ADP->PRT if Word:drove@[-1]\n",
      "   3   3   0   0  | NOUN->VERB if Word:could@[-1]\n",
      "   3   3   0   0  | PRT->ADP if Word:returned@[-1]\n",
      "   3   3   0   0  | PRT->ADV if Word:from@[-1]\n",
      "   3   3   0   0  | ADJ->NOUN if Word:Electric@[1]\n",
      "   3   3   0   2  | ADJ->NOUN if Word:said@[1]\n",
      "   3   3   0   0  | PRT->ADP if Word:left@[1]\n",
      "   3   3   0   0  | VERB->NOUN if Word:call@[-2]\n",
      "   3   3   0   0  | PRT->ADP if Word:who@[2]\n",
      "   3   3   0   0  | NOUN->VERB if Pos:PRT@[-1] & Pos:PRON@[1]\n",
      "   3   5   2   0  | NOUN->VERB if Pos:ADJ@[-2] & Pos:PRT@[-1]\n",
      "   3   3   0   0  | NOUN->VERB if Word:didn't@[-2,-1]\n",
      "   3   3   0   0  | ADV->ADJ if Word:standard@[1,2]\n",
      "   3   3   0   0  | ADP->PRT if Word:that's@[-1,0]\n",
      "   3   3   0   0  | ADP->PRT if Word:you're@[-1,0]\n",
      "   3   3   0   0  | ADP->PRT if Word:It's@[0,1]\n",
      "   3   3   0   0  | ADP->PRT if Word:it's@[0]\n",
      "   3   3   0   0  | NOUN->VERB if Word:are@[0]\n",
      "   3   3   0   0  | NOUN->VERB if Word:said@[0]\n",
      "   3   3   0   0  | PRON->ADP if Word:of@[0]\n",
      "   3   3   0   0  | VERB->NOUN if Word:today@[0]\n",
      "   3   5   2   0  | ADJ->ADV if Word:more@[0] & Word:the@[-1] & Pos:DET@[-1]\n",
      "   3   3   0   0  | ADJ->ADV if Word:only@[0] & Word:was@[-1] & Pos:VERB@[-1]\n",
      "   3   3   0   0  | ADJ->NOUN if Word:individual@[0] & Word:an@[-1] &\n",
      "                  |   Pos:DET@[-1]\n",
      "   3   3   0   0  | ADP->ADV if Word:along@[0] & Word:get@[-1] & Pos:VERB@[-1]\n",
      "   3   3   0   0  | ADP->ADV if Word:upon@[0] & Word:called@[-1] &\n",
      "                  |   Pos:VERB@[-1]\n",
      "   3   3   0   0  | ADP->DET if Word:that@[0] & Word:on@[-1] & Pos:ADP@[-1]\n",
      "   3   3   0   0  | ADP->PRT if Word:down@[0] & Word:,@[-1] & Pos:.@[-1]\n",
      "   3   3   0   0  | PRT->ADP if Word:to@[0] & Word:back@[-1] & Pos:ADV@[-1]\n",
      "   3   3   0   0  | VERB->ADJ if Word:left@[0] & Word:his@[-1] & Pos:DET@[-1]\n",
      "   3   3   0   1  | VERB->ADJ if Word:left@[0] & Word:the@[-1] & Pos:DET@[-1]\n",
      "   3   3   0   0  | VERB->NOUN if Word:move@[0] & Word:the@[-1] & Pos:DET@[-1]\n",
      "   3   3   0   0  | ADJ->ADV if Word:deep@[0] & Word:into@[1] & Pos:ADP@[1]\n",
      "   3   4   1   0  | ADJ->ADV if Word:enough@[0] & Word:.@[1] & Pos:.@[1]\n",
      "   3   3   0   0  | ADJ->ADV if Word:low@[0] & Word:as@[1] & Pos:ADP@[1]\n",
      "   3   3   0   0  | ADJ->NOUN if Word:good@[0] & Word:of@[1] & Pos:ADP@[1]\n",
      "   3   3   0   0  | ADJ->NOUN if Word:past@[0] & Word:,@[1] & Pos:.@[1]\n",
      "   3   3   0   0  | ADP->ADV if Word:as@[0] & Word:many@[1] & Pos:ADJ@[1]\n",
      "   3   3   0   0  | ADP->ADV if Word:as@[0] & Word:much@[1] & Pos:ADJ@[1]\n",
      "   3   3   0   0  | ADP->ADV if Word:before@[0] & Word:,@[1] & Pos:.@[1]\n",
      "   3   3   0   0  | ADP->ADV if Word:before@[0] & Word:.@[1] & Pos:.@[1]\n",
      "   3   3   0   0  | ADP->DET if Word:that@[0] & Word:day@[1] & Pos:NOUN@[1]\n",
      "   3   3   0   0  | ADP->DET if Word:that@[0] & Word:way@[1] & Pos:NOUN@[1]\n",
      "   3   3   0   0  | ADP->PRT if Word:in@[0] & Word:,@[1] & Pos:.@[1]\n",
      "   3   3   0   0  | ADP->PRT if Word:on@[0] & Word:in@[1] & Pos:ADP@[1]\n",
      "   3   3   0   0  | NOUN->VERB if Word:calls@[0] & Word:for@[1] & Pos:ADP@[1]\n",
      "   3   3   0   0  | VERB->NOUN if Word:left@[0] & Word:.@[1] & Pos:.@[1]\n"
     ]
    }
   ],
   "source": [
    "min_acc = None\n",
    "start = time.time()\n",
    "brill_tagger = trainer.train(train_sents, 300, 3, min_acc)\n",
    "finish = time.time()"
   ]
  },
  {
   "cell_type": "code",
   "execution_count": 35,
   "metadata": {
    "collapsed": false,
    "deletable": true,
    "editable": true
   },
   "outputs": [
    {
     "name": "stdout",
     "output_type": "stream",
     "text": [
      "BrillTagger время обучения =  34.00211477279663\n",
      "BrillTagger accuracy =  0.8583673876208512\n"
     ]
    }
   ],
   "source": [
    "print(\"BrillTagger время обучения = \", finish - start)\n",
    "print(\"BrillTagger accuracy = \", brill_tagger.evaluate(test_sents))"
   ]
  },
  {
   "cell_type": "markdown",
   "metadata": {
    "deletable": true,
    "editable": true
   },
   "source": [
    "Для обучения Brilltagger нужен какой-нибудь тэггер, я взял UnigrammTagger, и свод правил, взял стандартный brill24(). При обучении алгоритм выбирает нужные правила, которые действительно улучшают качество работы базового алгоритма. Тэггер обучен на brown корпусе, категория \"news\". Показал неплохое качество, но работает довольно долго. Думаю подбором правил и базового тэггера можно добиться хорошего качества."
   ]
  },
  {
   "cell_type": "markdown",
   "metadata": {
    "deletable": true,
    "editable": true
   },
   "source": [
    "### 2. Выделение именованных сущностей (NER)\n",
    "\n"
   ]
  },
  {
   "cell_type": "markdown",
   "metadata": {
    "deletable": true,
    "editable": true
   },
   "source": [
    "#### 2.1. Генерация признаков для CRF"
   ]
  },
  {
   "cell_type": "markdown",
   "metadata": {
    "deletable": true,
    "editable": true
   },
   "source": [
    "Выделение именованных сущностей - другая распространенная задача разметки последовательности слов. Чаще всего она решается марковскими моделями максимальной энтропии (MEMM) или условными случайными полями (CRF). При этом основная сложность заключается в генерации  хороших признаков. \n",
    "\n",
    "В данном задании Вам требуется придумать и использовать множество признаков для обучения CRF из библиотеки CRFsuite. В этой библиотеке реализована linear-chain CRF с потенциалами двух типов (аналогично HMM):\n",
    "\n",
    "$$ \\psi_{mk}(t_{i-1}, t_{i}) = [t_{i-1} = m] \\, [t_{i} = k]; \\quad \\psi_{jk}(t_{i}, x_i) = [t_{i} = k] \\, f_j(x_i)$$\n",
    "\n",
    "\n",
    "Потенциалы первого типа назвают transition features, они зависят только от биграмм меток. Потенциалы второго типа -- label-observation (node-observation) featrues; они зависят от метки и признаков наблюдаемого слова (observation features). Несмотря на то, что в формуле явно участвует текущее слово $x_i$, подход остается полностью корректным, когда признаки зависят также от контекста слова (соседних слов). Это следствие того, что CRF является дискриминативной моделью, и наблюдаемые переменные $X$ не моделируются. \n"
   ]
  },
  {
   "cell_type": "markdown",
   "metadata": {
    "deletable": true,
    "editable": true
   },
   "source": [
    "**Указания к заданию:** \n",
    "- Загрузите из NLTK обучающие и тестовые датасеты для задачи выделения именованных сущеностей CoNLL 2002 shared task на английском, испанском и голландском языках в BIO-нотации (nltk.corpus.conll2002).\n",
    "- Для обучения CRF модели библиотеке необходимо передать последовательность наблюдаемых признаков $f_j(x_i)$ и меток $y_i$. Ниже приведен весь технический код, который позволит сконцентрироваться только на самом творческом этапе -- генерации признаков.\n",
    "- Оцените качество приведенного решения. \n",
    "- Ваша задача заключается в том, чтобы повысить его. Помимо генерации новых признаков, можно обратить внимание на параметры обучения, в частности, feature.minfreq позволяет отсеивать редкие признаки.  \n",
    "- При проверке задания будет оцениваться как достигнутое качество, так и разнообразие/оригинальность использованных признаков. Если вы попробовали какие-то признаки, но они не помогли, также включите их в отчет. \n",
    "- Если у Вас закончилась фантазия, почитайте обзоры и статьи по теме.\n"
   ]
  },
  {
   "cell_type": "code",
   "execution_count": 36,
   "metadata": {
    "collapsed": true,
    "deletable": true,
    "editable": true
   },
   "outputs": [],
   "source": [
    "def reduce_mask(word) :\n",
    "    res = ''\n",
    "    for i in range(len(word)) :\n",
    "        if word[i].isdigit() :\n",
    "            res += 'd'\n",
    "        elif word[i].isalpha() :\n",
    "            if word[i].isupper() :\n",
    "                res += 'X'\n",
    "            else :\n",
    "                res += 'x'\n",
    "        else :\n",
    "            res += word[i]\n",
    "        if i > 0 and res[-2:][0] == res[-2:][1] :\n",
    "            res = res[:len(res)-1]\n",
    "    return res\n",
    "def mask(word) :\n",
    "    res = ''\n",
    "    for i in range(len(word)) :\n",
    "        if word[i].isdigit() :\n",
    "            res += 'd'\n",
    "        elif word[i].isalpha() :\n",
    "            if word[i].isupper() :\n",
    "                res += 'X'\n",
    "            else :\n",
    "                res += 'x'\n",
    "        else :\n",
    "            res += word[i]\n",
    "    return res"
   ]
  },
  {
   "cell_type": "code",
   "execution_count": 37,
   "metadata": {
    "collapsed": false,
    "deletable": true,
    "editable": true
   },
   "outputs": [],
   "source": [
    "# Let's define very simple example features.\n",
    "\n",
    "def word2features(sent, i):\n",
    "\n",
    "    word = sent[i][0]\n",
    "    postag = sent[i][1]\n",
    "    features = [\n",
    "        'bias',\n",
    "        'word.lower=' + word.lower(),\n",
    "        'word[-3:]=' + word[-3:],\n",
    "        'word[:3]=' + word[:3],\n",
    "        'word.isupper=%s' % word.isupper(),\n",
    "        'word.islower=%s' % word.islower(),\n",
    "        'word.isalnum=%s' % word.isalnum(),\n",
    "        'word.isalpha=%s' % word.isalpha(),\n",
    "        'word.isdigit=%s' % word.isdigit(),\n",
    "        'postag=' + postag,\n",
    "        'word.istitle=%s' % word.istitle(),\n",
    "        'word_mask=' + mask(word),\n",
    "        'word_reduce_mask=' + reduce_mask(word),\n",
    "        'word_point=%s' % (word.count('.') > 0),\n",
    "        'word_hyphen=%s' % (word.count('-') > 0)\n",
    "        \n",
    "    ]\n",
    "    if i < len(sent)-1 :\n",
    "        word2 = sent[i+1][0]\n",
    "        postag2 = sent[i+1][1]\n",
    "        features.extend([\n",
    "            '+1:word.lower=' + word2.lower(),\n",
    "            'word1[-3:]=' + word2[-3:],\n",
    "            'word1[:3]=' + word2[:3],\n",
    "            '+1:word.isupper=%s' % word2.isupper(),\n",
    "            '+1:word.islower=%s' % word2.islower(),\n",
    "            '+1:word.isalnum=%s' % word2.isalnum(),\n",
    "            '+1:word.isalpha=%s' % word2.isalpha(),\n",
    "            '+1:word.isdigit=%s' % word2.isdigit(),\n",
    "            '+1:postag=' + postag2,\n",
    "            '+1:word.istitle=%s' % word2.istitle(),\n",
    "            '0+1:word=' + word.lower() + word2.lower(),\n",
    "            'word2_mask=' + mask(word2),\n",
    "            'word2_reduce_mask=' + reduce_mask(word2),\n",
    "            '0+1:word_mask=' + mask(word) + mask(word2),\n",
    "            'word2_point=%s' % (word2.count('.') > 0),\n",
    "            'word2_hyphen=%s' % (word2.count('-') > 0)\n",
    "        ])\n",
    "        if i < len(sent) - 2 :\n",
    "            word3 = sent[i+2][0]\n",
    "            postag3 = sent[i+2][1]\n",
    "            features.extend([\n",
    "                '+2:word.isupper=%s' % word3.isupper(),\n",
    "                '+2:postag=' + postag3,\n",
    "                '+2:word.istitle=%s' % word3.istitle(),\n",
    "                'word3_mask=' + mask(word3),\n",
    "                '1+2:word_mask=' + mask(word2) + mask(word3)\n",
    "            ])\n",
    "    if i > 0:\n",
    "        word1 = sent[i-1][0]\n",
    "        postag1 = sent[i-1][1]\n",
    "        features.extend([\n",
    "            '-1:word.lower=' + word1.lower(),\n",
    "            'word2[-3:]=' + word1[-3:],\n",
    "            'word2[:3]=' + word1[:3],\n",
    "            '-1:word.isupper=%s' % word1.isupper(),\n",
    "            '-1:word.islower=%s' % word1.islower(),\n",
    "            '-1:word.isalnum=%s' % word1.isalnum(),\n",
    "            '-1:word.isalpha=%s' % word1.isalpha(),\n",
    "            '-1:word.isdigit=%s' % word1.isdigit(),\n",
    "            '-1:postag=' + postag1,\n",
    "            '-1:word.istitle=%s' % word1.istitle(),\n",
    "            '-1+0:word=' + word1.lower() + word.lower(),\n",
    "            'word1_mask=' + mask(word1),\n",
    "            'word1_reduce_mask=' + reduce_mask(word1),\n",
    "            '-1+0:word_mask=' + mask(word1) + mask(word),\n",
    "            'word1_point=%s' % (word1.count('.') > 0),\n",
    "            'word1_hyphen=%s' % (word1.count('-') > 0)\n",
    "        ])\n",
    "        if i > 1:\n",
    "            word4 = sent[i-2][0]\n",
    "            postag4 = sent[i-2][1]\n",
    "            features.extend([\n",
    "                '-2:word.isupper=%s' % word4.isupper(),\n",
    "                '-2:postag=' + postag4,\n",
    "                '-2:word.istitle=%s' % word4.istitle(),\n",
    "                'word4_mask=' + mask(word4),\n",
    "                '-2-1:word_mask=' + mask(word4) + mask(word1)\n",
    "            ])\n",
    "    else:\n",
    "        features.append('BOS')\n",
    "    \n",
    "    return features\n",
    "\n",
    "\n",
    "def sent2features(sent):\n",
    "    return [word2features(sent, i) for i in range(len(sent))]\n",
    "\n",
    "def sent2labels(sent):\n",
    "    return [label for token, postag, label in sent]"
   ]
  },
  {
   "cell_type": "markdown",
   "metadata": {
    "deletable": true,
    "editable": true
   },
   "source": [
    "Для генерации признаков текущего слова использовались : само слово и его тэг, 2 предыдущих слова с их тэгами и 2 последющих слова с их тэгами. В качестве признаков использовались суффик и префикс слова, тэг, бинарные признаки типа (слово ничинается с большой буквы, состоит из цифр и букв и тд). Так же в качестве признака использовал маску слова и сокращенную маску слова, количство специальных символов в слове такких как \".\" и \"-\". На делеких словах от текущего - через одно вперед и назад, использование всех признаков понижало качество, поэтому выбрал самые информативные."
   ]
  },
  {
   "cell_type": "code",
   "execution_count": 38,
   "metadata": {
    "collapsed": false,
    "deletable": true,
    "editable": true
   },
   "outputs": [],
   "source": [
    "# Let's prepare functions for more comfortable work with pycrfsuite.\n",
    "\n",
    "import pycrfsuite\n",
    "\n",
    "MODEL_NAME = 'model.crfsuite'\n",
    "\n",
    "def train(train):\n",
    "    X_train = [sent2features(s) for s in train]\n",
    "    y_train = [sent2labels(s) for s in train]\n",
    "\n",
    "    trainer = pycrfsuite.Trainer(verbose=False)\n",
    "\n",
    "    trainer.set_params({'c1': 1.0, 'c2': 1e-3, 'max_iterations': 50,\n",
    "                        'feature.possible_transitions': True})\n",
    "\n",
    "    for xseq, yseq in zip(X_train, y_train):\n",
    "        trainer.append(xseq, yseq)\n",
    "\n",
    "    trainer.train(MODEL_NAME)\n",
    "\n",
    "def evaluate(test):\n",
    "    X_test = [sent2features(s) for s in test]\n",
    "    y_test = [sent2labels(s) for s in test]\n",
    "\n",
    "    tagger = pycrfsuite.Tagger()\n",
    "    tagger.open(MODEL_NAME)\n",
    "\n",
    "    y_pred = [tagger.tag(x) for x in X_test]\n",
    "\n",
    "    true_counter, total_counter = 0.0, 0.0\n",
    "    for p, t in zip(y_pred, y_test):\n",
    "        assert len(p) == len(t)\n",
    "        total_counter += len(p)\n",
    "        true_counter += sum([str(i) == str(j) for i, j in zip(p, t)])\n",
    "    return true_counter / total_counter"
   ]
  },
  {
   "cell_type": "code",
   "execution_count": 39,
   "metadata": {
    "collapsed": false,
    "deletable": true,
    "editable": true
   },
   "outputs": [],
   "source": [
    "import nltk\n",
    "from nltk.corpus import conll2002"
   ]
  },
  {
   "cell_type": "code",
   "execution_count": 40,
   "metadata": {
    "collapsed": false,
    "deletable": true,
    "editable": true
   },
   "outputs": [],
   "source": [
    "train_sents_esp = conll2002.iob_sents('esp.train')\n",
    "test_sents_esp = conll2002.iob_sents('esp.testa')"
   ]
  },
  {
   "cell_type": "code",
   "execution_count": 41,
   "metadata": {
    "collapsed": false,
    "deletable": true,
    "editable": true
   },
   "outputs": [
    {
     "name": "stdout",
     "output_type": "stream",
     "text": [
      "CRFmodel_esp время =  117.94473791122437\n"
     ]
    }
   ],
   "source": [
    "t = time.time()\n",
    "train(train_sents_esp)\n",
    "print('CRFmodel_esp время = ', time.time() - t)"
   ]
  },
  {
   "cell_type": "code",
   "execution_count": 42,
   "metadata": {
    "collapsed": false,
    "deletable": true,
    "editable": true
   },
   "outputs": [
    {
     "name": "stdout",
     "output_type": "stream",
     "text": [
      "CRFmodel_esp accuracy =  0.9582601137501653\n"
     ]
    }
   ],
   "source": [
    "print('CRFmodel_esp accuracy = ', evaluate(test_sents_esp))"
   ]
  },
  {
   "cell_type": "code",
   "execution_count": 43,
   "metadata": {
    "collapsed": true,
    "deletable": true,
    "editable": true
   },
   "outputs": [],
   "source": [
    "train_sents_ned = conll2002.iob_sents('ned.train')\n",
    "test_sents_ned = conll2002.iob_sents('ned.testa')"
   ]
  },
  {
   "cell_type": "code",
   "execution_count": 44,
   "metadata": {
    "collapsed": false,
    "deletable": true,
    "editable": true
   },
   "outputs": [
    {
     "name": "stdout",
     "output_type": "stream",
     "text": [
      "CRFmodel_ned время =  75.13403749465942\n"
     ]
    }
   ],
   "source": [
    "t = time.time()\n",
    "train(train_sents_ned)\n",
    "print('CRFmodel_ned время = ', time.time() - t)"
   ]
  },
  {
   "cell_type": "code",
   "execution_count": 45,
   "metadata": {
    "collapsed": false,
    "deletable": true,
    "editable": true
   },
   "outputs": [
    {
     "name": "stdout",
     "output_type": "stream",
     "text": [
      "CRFmodel_ned accuracy =  0.9707060790192905\n"
     ]
    }
   ],
   "source": [
    "print('CRFmodel_ned accuracy = ', evaluate(test_sents_ned))"
   ]
  },
  {
   "cell_type": "code",
   "execution_count": 1,
   "metadata": {
    "collapsed": false,
    "deletable": true,
    "editable": true
   },
   "outputs": [],
   "source": [
    "from nltk.corpus import conll2000"
   ]
  },
  {
   "cell_type": "code",
   "execution_count": 2,
   "metadata": {
    "collapsed": false,
    "deletable": true,
    "editable": true
   },
   "outputs": [],
   "source": [
    "train_sents_eng = conll2000.iob_sents('train.txt', tagset = 'universal')\n",
    "test_sents_eng = conll2000.iob_sents('test.txt', tagset = 'universal')"
   ]
  },
  {
   "cell_type": "code",
   "execution_count": 48,
   "metadata": {
    "collapsed": false,
    "deletable": true,
    "editable": true
   },
   "outputs": [
    {
     "name": "stdout",
     "output_type": "stream",
     "text": [
      "CRFmodel_eng время =  128.03015065193176\n"
     ]
    }
   ],
   "source": [
    "t = time.time()\n",
    "train(train_sents_eng)\n",
    "print('CRFmodel_eng время = ', time.time() - t)"
   ]
  },
  {
   "cell_type": "code",
   "execution_count": 49,
   "metadata": {
    "collapsed": false,
    "deletable": true,
    "editable": true
   },
   "outputs": [
    {
     "name": "stdout",
     "output_type": "stream",
     "text": [
      "CRFmodel_eng accuracy =  0.9542605061527746\n"
     ]
    }
   ],
   "source": [
    "print('CRFmodel_eng accuracy = ', evaluate(test_sents_eng))"
   ]
  },
  {
   "cell_type": "markdown",
   "metadata": {
    "deletable": true,
    "editable": true
   },
   "source": [
    "#### 2.2. Stanford NER tagger\n",
    "\n",
    "Воспользуйтесь StanfordNERTagger для решения задачи NER на тех же тестовых данных, только для английского языка (обучать модель здесь не требуется). Приведите данные в соответствие нужному формату. Сравните результат с полученным выше. Настройка StanfordNERTagger производится аналогично настройке StanfordPOSTagger. В качестве готовой модели можно взять 'english.all.3class.distsim.crf.ser.gz'."
   ]
  },
  {
   "cell_type": "code",
   "execution_count": 17,
   "metadata": {
    "collapsed": true,
    "deletable": true,
    "editable": true
   },
   "outputs": [],
   "source": [
    "from nltk.tag import StanfordNERTagger"
   ]
  },
  {
   "cell_type": "code",
   "execution_count": 19,
   "metadata": {
    "collapsed": false,
    "deletable": true,
    "editable": true
   },
   "outputs": [],
   "source": [
    "os.environ['CLASSPATH'] = os.path.join(\n",
    "   os.path.curdir, 'stanford-ner-2014-06-16'\n",
    ")\n",
    "os.environ['STANFORD_MODELS'] = os.path.join(\n",
    "    os.path.curdir, 'stanford-ner-2014-06-16', 'classifiers'\n",
    ")\n",
    "stanford_ner_tagger = StanfordNERTagger('english.all.3class.distsim.crf.ser.gz')"
   ]
  },
  {
   "cell_type": "code",
   "execution_count": 21,
   "metadata": {
    "collapsed": false,
    "deletable": true,
    "editable": true
   },
   "outputs": [],
   "source": [
    "test = [el[0] for lst in test_sents_eng for el in lst]\n",
    "tags = [el[2] for lst in test_sents_eng for el in lst]"
   ]
  },
  {
   "cell_type": "code",
   "execution_count": 53,
   "metadata": {
    "collapsed": false,
    "deletable": true,
    "editable": true
   },
   "outputs": [
    {
     "data": {
      "text/plain": [
       "[('Rockwell', 'ORGANIZATION'),\n",
       " ('International', 'ORGANIZATION'),\n",
       " ('Corp.', 'ORGANIZATION'),\n",
       " (\"'s\", 'O'),\n",
       " ('Tulsa', 'LOCATION'),\n",
       " ('unit', 'O'),\n",
       " ('said', 'O'),\n",
       " ('it', 'O'),\n",
       " ('signed', 'O'),\n",
       " ('a', 'O'),\n",
       " ('tentative', 'O'),\n",
       " ('agreement', 'O'),\n",
       " ('extending', 'O'),\n",
       " ('its', 'O'),\n",
       " ('contract', 'O'),\n",
       " ('with', 'O'),\n",
       " ('Boeing', 'ORGANIZATION'),\n",
       " ('Co.', 'ORGANIZATION'),\n",
       " ('to', 'O'),\n",
       " ('provide', 'O'),\n",
       " ('structural', 'O'),\n",
       " ('parts', 'O'),\n",
       " ('for', 'O'),\n",
       " ('Boeing', 'ORGANIZATION'),\n",
       " (\"'s\", 'O'),\n",
       " ('747', 'O'),\n",
       " ('jetliners', 'O'),\n",
       " ('.', 'O'),\n",
       " ('Rockwell', 'PERSON'),\n",
       " ('said', 'O'),\n",
       " ('the', 'O'),\n",
       " ('agreement', 'O'),\n",
       " ('calls', 'O'),\n",
       " ('for', 'O'),\n",
       " ('it', 'O'),\n",
       " ('to', 'O'),\n",
       " ('supply', 'O'),\n",
       " ('200', 'O'),\n",
       " ('additional', 'O'),\n",
       " ('so-called', 'O'),\n",
       " ('shipsets', 'O'),\n",
       " ('for', 'O'),\n",
       " ('the', 'O'),\n",
       " ('planes', 'O'),\n",
       " ('.', 'O'),\n",
       " ('These', 'O'),\n",
       " ('include', 'O'),\n",
       " (',', 'O'),\n",
       " ('among', 'O'),\n",
       " ('other', 'O'),\n",
       " ('parts', 'O'),\n",
       " (',', 'O'),\n",
       " ('each', 'O'),\n",
       " ('jetliner', 'O'),\n",
       " (\"'s\", 'O'),\n",
       " ('two', 'O'),\n",
       " ('major', 'O'),\n",
       " ('bulkheads', 'O'),\n",
       " (',', 'O'),\n",
       " ('a', 'O'),\n",
       " ('pressure', 'O'),\n",
       " ('floor', 'O'),\n",
       " (',', 'O'),\n",
       " ('torque', 'O'),\n",
       " ('box', 'O'),\n",
       " (',', 'O'),\n",
       " ('fixed', 'O'),\n",
       " ('leading', 'O'),\n",
       " ('edges', 'O'),\n",
       " ('for', 'O'),\n",
       " ('the', 'O'),\n",
       " ('wings', 'O'),\n",
       " ('and', 'O'),\n",
       " ('an', 'O'),\n",
       " ('aft', 'O'),\n",
       " ('keel', 'O'),\n",
       " ('beam', 'O'),\n",
       " ('.', 'O'),\n",
       " ('Under', 'O'),\n",
       " ('the', 'O'),\n",
       " ('existing', 'O'),\n",
       " ('contract', 'O'),\n",
       " (',', 'O'),\n",
       " ('Rockwell', 'ORGANIZATION'),\n",
       " ('said', 'O'),\n",
       " (',', 'O'),\n",
       " ('it', 'O'),\n",
       " ('has', 'O'),\n",
       " ('already', 'O'),\n",
       " ('delivered', 'O'),\n",
       " ('793', 'O'),\n",
       " ('of', 'O'),\n",
       " ('the', 'O'),\n",
       " ('shipsets', 'O'),\n",
       " ('to', 'O'),\n",
       " ('Boeing', 'ORGANIZATION'),\n",
       " ('.', 'O'),\n",
       " ('Rockwell', 'PERSON'),\n",
       " (',', 'O'),\n",
       " ('based', 'O'),\n",
       " ('in', 'O'),\n",
       " ('El', 'LOCATION'),\n",
       " ('Segundo', 'LOCATION'),\n",
       " (',', 'O'),\n",
       " ('Calif.', 'LOCATION'),\n",
       " (',', 'O'),\n",
       " ('is', 'O'),\n",
       " ('an', 'O'),\n",
       " ('aerospace', 'O'),\n",
       " (',', 'O'),\n",
       " ('electronics', 'O'),\n",
       " (',', 'O'),\n",
       " ('automotive', 'O'),\n",
       " ('and', 'O'),\n",
       " ('graphics', 'O'),\n",
       " ('concern', 'O'),\n",
       " ('.', 'O'),\n",
       " ('Frank', 'PERSON'),\n",
       " ('Carlucci', 'PERSON'),\n",
       " ('III', 'PERSON'),\n",
       " ('was', 'O'),\n",
       " ('named', 'O'),\n",
       " ('to', 'O'),\n",
       " ('this', 'O'),\n",
       " ('telecommunications', 'O'),\n",
       " ('company', 'O'),\n",
       " (\"'s\", 'O'),\n",
       " ('board', 'O'),\n",
       " (',', 'O'),\n",
       " ('filling', 'O'),\n",
       " ('the', 'O'),\n",
       " ('vacancy', 'O'),\n",
       " ('created', 'O'),\n",
       " ('by', 'O'),\n",
       " ('the', 'O'),\n",
       " ('death', 'O'),\n",
       " ('of', 'O'),\n",
       " ('William', 'PERSON'),\n",
       " ('Sobey', 'PERSON'),\n",
       " ('last', 'O'),\n",
       " ('May', 'O'),\n",
       " ('.', 'O'),\n",
       " ('Mr.', 'O'),\n",
       " ('Carlucci', 'PERSON'),\n",
       " (',', 'O'),\n",
       " ('59', 'O'),\n",
       " ('years', 'O'),\n",
       " ('old', 'O'),\n",
       " (',', 'O'),\n",
       " ('served', 'O'),\n",
       " ('as', 'O'),\n",
       " ('defense', 'ORGANIZATION'),\n",
       " ('secretary', 'O'),\n",
       " ('in', 'O'),\n",
       " ('the', 'O'),\n",
       " ('Reagan', 'PERSON'),\n",
       " ('administration', 'O'),\n",
       " ('.', 'O'),\n",
       " ('In', 'O'),\n",
       " ('January', 'O'),\n",
       " (',', 'O'),\n",
       " ('he', 'O'),\n",
       " ('accepted', 'O'),\n",
       " ('the', 'O'),\n",
       " ('position', 'O'),\n",
       " ('of', 'O'),\n",
       " ('vice', 'O'),\n",
       " ('chairman', 'O'),\n",
       " ('of', 'O'),\n",
       " ('Carlyle', 'ORGANIZATION'),\n",
       " ('Group', 'ORGANIZATION'),\n",
       " (',', 'O'),\n",
       " ('a', 'O'),\n",
       " ('merchant', 'O'),\n",
       " ('banking', 'O'),\n",
       " ('concern', 'O'),\n",
       " ('.', 'O'),\n",
       " ('SHEARSON', 'ORGANIZATION'),\n",
       " ('LEHMAN', 'ORGANIZATION'),\n",
       " ('HUTTON', 'ORGANIZATION'),\n",
       " ('Inc', 'ORGANIZATION'),\n",
       " ('.', 'O'),\n",
       " ('Thomas', 'PERSON'),\n",
       " ('E.', 'PERSON'),\n",
       " ('Meador', 'PERSON'),\n",
       " (',', 'O'),\n",
       " ('42', 'O'),\n",
       " ('years', 'O'),\n",
       " ('old', 'O'),\n",
       " (',', 'O'),\n",
       " ('was', 'O'),\n",
       " ('named', 'O'),\n",
       " ('president', 'O'),\n",
       " ('and', 'O'),\n",
       " ('chief', 'O'),\n",
       " ('operating', 'O'),\n",
       " ('officer', 'O'),\n",
       " ('of', 'O'),\n",
       " ('Balcor', 'ORGANIZATION'),\n",
       " ('Co.', 'ORGANIZATION'),\n",
       " (',', 'O'),\n",
       " ('a', 'O'),\n",
       " ('Skokie', 'LOCATION'),\n",
       " (',', 'O'),\n",
       " ('Ill.', 'LOCATION'),\n",
       " (',', 'O'),\n",
       " ('subsidiary', 'O'),\n",
       " ('of', 'O'),\n",
       " ('this', 'O'),\n",
       " ('New', 'LOCATION'),\n",
       " ('York', 'LOCATION'),\n",
       " ('investment', 'O'),\n",
       " ('banking', 'O'),\n",
       " ('firm', 'O'),\n",
       " ('.', 'O'),\n",
       " ('Balcor', 'ORGANIZATION'),\n",
       " (',', 'O'),\n",
       " ('which', 'O'),\n",
       " ('has', 'O'),\n",
       " ('interests', 'O'),\n",
       " ('in', 'O'),\n",
       " ('real', 'O'),\n",
       " ('estate', 'O'),\n",
       " (',', 'O'),\n",
       " ('said', 'O'),\n",
       " ('the', 'O'),\n",
       " ('position', 'O'),\n",
       " ('is', 'O'),\n",
       " ('newly', 'O'),\n",
       " ('created', 'O'),\n",
       " ('.', 'O'),\n",
       " ('Mr.', 'O'),\n",
       " ('Meador', 'PERSON'),\n",
       " ('had', 'O'),\n",
       " ('been', 'O'),\n",
       " ('executive', 'O'),\n",
       " ('vice', 'O'),\n",
       " ('president', 'O'),\n",
       " ('of', 'O'),\n",
       " ('Balcor', 'ORGANIZATION'),\n",
       " ('.', 'O'),\n",
       " ('In', 'O'),\n",
       " ('addition', 'O'),\n",
       " ('to', 'O'),\n",
       " ('his', 'O'),\n",
       " ('previous', 'O'),\n",
       " ('real-estate', 'O'),\n",
       " ('investment', 'O'),\n",
       " ('and', 'O'),\n",
       " ('asset-management', 'O'),\n",
       " ('duties', 'O'),\n",
       " (',', 'O'),\n",
       " ('Mr.', 'O'),\n",
       " ('Meador', 'PERSON'),\n",
       " ('takes', 'O'),\n",
       " ('responsibility', 'O'),\n",
       " ('for', 'O'),\n",
       " ('development', 'O'),\n",
       " ('and', 'O'),\n",
       " ('property', 'O'),\n",
       " ('management', 'O'),\n",
       " ('.', 'O'),\n",
       " ('Those', 'O'),\n",
       " ('duties', 'O'),\n",
       " ('had', 'O'),\n",
       " ('been', 'O'),\n",
       " ('held', 'O'),\n",
       " ('by', 'O'),\n",
       " ('Van', 'PERSON'),\n",
       " ('Pell', 'PERSON'),\n",
       " (',', 'O'),\n",
       " ('44', 'O'),\n",
       " (',', 'O'),\n",
       " ('who', 'O'),\n",
       " ('resigned', 'O'),\n",
       " ('as', 'O'),\n",
       " ('an', 'O'),\n",
       " ('executive', 'O'),\n",
       " ('vice', 'O'),\n",
       " ('president', 'O'),\n",
       " ('.', 'O'),\n",
       " ('Shearson', 'ORGANIZATION'),\n",
       " ('is', 'O'),\n",
       " ('about', 'O'),\n",
       " ('60%-held', 'O'),\n",
       " ('by', 'O'),\n",
       " ('American', 'ORGANIZATION'),\n",
       " ('Express', 'ORGANIZATION'),\n",
       " ('Co', 'ORGANIZATION'),\n",
       " ('.', 'O'),\n",
       " ('Great', 'ORGANIZATION'),\n",
       " ('American', 'ORGANIZATION'),\n",
       " ('Bank', 'ORGANIZATION'),\n",
       " (',', 'O'),\n",
       " ('citing', 'O'),\n",
       " ('depressed', 'O'),\n",
       " ('Arizona', 'LOCATION'),\n",
       " ('real', 'O'),\n",
       " ('estate', 'O'),\n",
       " ('prices', 'O'),\n",
       " (',', 'O'),\n",
       " ('posted', 'O'),\n",
       " ('a', 'O'),\n",
       " ('third-quarter', 'O'),\n",
       " ('loss', 'O'),\n",
       " ('of', 'O'),\n",
       " ('$', 'O'),\n",
       " ('59.4', 'O'),\n",
       " ('million', 'O'),\n",
       " (',', 'O'),\n",
       " ('or', 'O'),\n",
       " ('$', 'O'),\n",
       " ('2.48', 'O'),\n",
       " ('a', 'O'),\n",
       " ('share', 'O'),\n",
       " ('.', 'O'),\n",
       " ('A', 'O'),\n",
       " ('year', 'O'),\n",
       " ('earlier', 'O'),\n",
       " (',', 'O'),\n",
       " ('the', 'O'),\n",
       " ('savings', 'O'),\n",
       " ('bank', 'O'),\n",
       " ('had', 'O'),\n",
       " ('earnings', 'O'),\n",
       " ('of', 'O'),\n",
       " ('$', 'O'),\n",
       " ('8.1', 'O'),\n",
       " ('million', 'O'),\n",
       " (',', 'O'),\n",
       " ('or', 'O'),\n",
       " ('33', 'O'),\n",
       " ('cents', 'O'),\n",
       " ('a', 'O'),\n",
       " ('share', 'O'),\n",
       " ('.', 'O'),\n",
       " ('For', 'O'),\n",
       " ('the', 'O'),\n",
       " ('nine', 'O'),\n",
       " ('months', 'O'),\n",
       " (',', 'O'),\n",
       " ('it', 'O'),\n",
       " ('had', 'O'),\n",
       " ('a', 'O'),\n",
       " ('loss', 'O'),\n",
       " ('of', 'O'),\n",
       " ('$', 'O'),\n",
       " ('58.3', 'O'),\n",
       " ('million', 'O'),\n",
       " (',', 'O'),\n",
       " ('or', 'O'),\n",
       " ('$', 'O'),\n",
       " ('2.44', 'O'),\n",
       " ('a', 'O'),\n",
       " ('share', 'O'),\n",
       " (',', 'O'),\n",
       " ('after', 'O'),\n",
       " ('earnings', 'O'),\n",
       " ('of', 'O'),\n",
       " ('$', 'O'),\n",
       " ('29.5', 'O'),\n",
       " ('million', 'O'),\n",
       " (',', 'O'),\n",
       " ('or', 'O'),\n",
       " ('$', 'O'),\n",
       " ('1.20', 'O'),\n",
       " ('a', 'O'),\n",
       " ('share', 'O'),\n",
       " (',', 'O'),\n",
       " ('in', 'O'),\n",
       " ('the', 'O'),\n",
       " ('1988', 'O'),\n",
       " ('period', 'O'),\n",
       " ('.', 'O'),\n",
       " ('Great', 'LOCATION'),\n",
       " ('American', 'LOCATION'),\n",
       " ('said', 'O'),\n",
       " ('it', 'O'),\n",
       " ('increased', 'O'),\n",
       " ('its', 'O'),\n",
       " ('loan-loss', 'O'),\n",
       " ('reserves', 'O'),\n",
       " ('by', 'O'),\n",
       " ('$', 'O'),\n",
       " ('93', 'O'),\n",
       " ('million', 'O'),\n",
       " ('after', 'O'),\n",
       " ('reviewing', 'O'),\n",
       " ('its', 'O'),\n",
       " ('loan', 'O'),\n",
       " ('portfolio', 'O'),\n",
       " (',', 'O'),\n",
       " ('raising', 'O'),\n",
       " ('its', 'O'),\n",
       " ('total', 'O'),\n",
       " ('loan', 'O'),\n",
       " ('and', 'O'),\n",
       " ('real', 'O'),\n",
       " ('estate', 'O'),\n",
       " ('reserves', 'O'),\n",
       " ('to', 'O'),\n",
       " ('$', 'O'),\n",
       " ('217', 'O'),\n",
       " ('million', 'O'),\n",
       " ('.', 'O'),\n",
       " ('Before', 'O'),\n",
       " ('the', 'O'),\n",
       " ('loan-loss', 'O'),\n",
       " ('addition', 'O'),\n",
       " (',', 'O'),\n",
       " ('it', 'O'),\n",
       " ('said', 'O'),\n",
       " (',', 'O'),\n",
       " ('it', 'O'),\n",
       " ('had', 'O'),\n",
       " ('operating', 'O'),\n",
       " ('profit', 'O'),\n",
       " ('of', 'O'),\n",
       " ('$', 'O'),\n",
       " ('10', 'O'),\n",
       " ('million', 'O'),\n",
       " ('for', 'O'),\n",
       " ('the', 'O'),\n",
       " ('quarter', 'O'),\n",
       " ('.', 'O'),\n",
       " ('The', 'O'),\n",
       " ('move', 'O'),\n",
       " ('followed', 'O'),\n",
       " ('a', 'O'),\n",
       " ('round', 'O'),\n",
       " ('of', 'O'),\n",
       " ('similar', 'O'),\n",
       " ('increases', 'O'),\n",
       " ('by', 'O'),\n",
       " ('other', 'O'),\n",
       " ('lenders', 'O'),\n",
       " ('against', 'O'),\n",
       " ('Arizona', 'ORGANIZATION'),\n",
       " ('real', 'O'),\n",
       " ('estate', 'O'),\n",
       " ('loans', 'O'),\n",
       " (',', 'O'),\n",
       " ('reflecting', 'O'),\n",
       " ('a', 'O'),\n",
       " ('continuing', 'O'),\n",
       " ('decline', 'O'),\n",
       " ('in', 'O'),\n",
       " ('that', 'O'),\n",
       " ('market', 'O'),\n",
       " ('.', 'O'),\n",
       " ('In', 'O'),\n",
       " ('addition', 'O'),\n",
       " ('to', 'O'),\n",
       " ('the', 'O'),\n",
       " ('increased', 'O'),\n",
       " ('reserve', 'O'),\n",
       " (',', 'O'),\n",
       " ('the', 'O'),\n",
       " ('savings', 'O'),\n",
       " ('bank', 'O'),\n",
       " ('took', 'O'),\n",
       " ('a', 'O'),\n",
       " ('special', 'O'),\n",
       " ('charge', 'O'),\n",
       " ('of', 'O'),\n",
       " ('$', 'O'),\n",
       " ('5', 'O'),\n",
       " ('million', 'O'),\n",
       " ('representing', 'O'),\n",
       " ('general', 'O'),\n",
       " ('and', 'O'),\n",
       " ('administrative', 'O'),\n",
       " ('expenses', 'O'),\n",
       " ('from', 'O'),\n",
       " ('staff', 'O'),\n",
       " ('reductions', 'O'),\n",
       " ('and', 'O'),\n",
       " ('other', 'O'),\n",
       " ('matters', 'O'),\n",
       " (',', 'O'),\n",
       " ('and', 'O'),\n",
       " ('it', 'O'),\n",
       " ('posted', 'O'),\n",
       " ('a', 'O'),\n",
       " ('$', 'O'),\n",
       " ('7.6', 'O'),\n",
       " ('million', 'O'),\n",
       " ('reduction', 'O'),\n",
       " ('in', 'O'),\n",
       " ('expected', 'O'),\n",
       " ('mortgage', 'O'),\n",
       " ('servicing', 'O'),\n",
       " ('fees', 'O'),\n",
       " (',', 'O'),\n",
       " ('reflecting', 'O'),\n",
       " ('the', 'O'),\n",
       " ('fact', 'O'),\n",
       " ('that', 'O'),\n",
       " ('more', 'O'),\n",
       " ('borrowers', 'O'),\n",
       " ('are', 'O'),\n",
       " ('prepaying', 'O'),\n",
       " ('their', 'O'),\n",
       " ('mortgages', 'O'),\n",
       " ('.', 'O'),\n",
       " ('Arbitragers', 'O'),\n",
       " ('were', 'O'),\n",
       " (\"n't\", 'O'),\n",
       " ('the', 'O'),\n",
       " ('only', 'O'),\n",
       " ('big', 'O'),\n",
       " ('losers', 'O'),\n",
       " ('in', 'O'),\n",
       " ('the', 'O'),\n",
       " ('collapse', 'O'),\n",
       " ('of', 'O'),\n",
       " ('UAL', 'ORGANIZATION'),\n",
       " ('Corp.', 'ORGANIZATION'),\n",
       " ('stock', 'O'),\n",
       " ('.', 'O'),\n",
       " ('Look', 'O'),\n",
       " ('at', 'O'),\n",
       " ('what', 'O'),\n",
       " ('happened', 'O'),\n",
       " ('to', 'O'),\n",
       " ('UAL', 'ORGANIZATION'),\n",
       " (\"'s\", 'O'),\n",
       " ('chairman', 'O'),\n",
       " (',', 'O'),\n",
       " ('Stephen', 'PERSON'),\n",
       " ('M.', 'PERSON'),\n",
       " ('Wolf', 'PERSON'),\n",
       " (',', 'O'),\n",
       " ('and', 'O'),\n",
       " ('its', 'O'),\n",
       " ('chief', 'O'),\n",
       " ('financial', 'O'),\n",
       " ('officer', 'O'),\n",
       " (',', 'O'),\n",
       " ('John', 'PERSON'),\n",
       " ('C.', 'PERSON'),\n",
       " ('Pope', 'PERSON'),\n",
       " ('.', 'O'),\n",
       " ('On', 'O'),\n",
       " ('a', 'O'),\n",
       " ('day', 'O'),\n",
       " ('some', 'O'),\n",
       " ('United', 'ORGANIZATION'),\n",
       " ('Airlines', 'ORGANIZATION'),\n",
       " ('employees', 'O'),\n",
       " ('wanted', 'O'),\n",
       " ('Mr.', 'O'),\n",
       " ('Wolf', 'PERSON'),\n",
       " ('fired', 'O'),\n",
       " ('and', 'O'),\n",
       " ('takeover', 'O'),\n",
       " ('stock', 'O'),\n",
       " ('speculators', 'O'),\n",
       " ('wanted', 'O'),\n",
       " ('his', 'O'),\n",
       " ('scalp', 'O'),\n",
       " (',', 'O'),\n",
       " ('Messrs.', 'PERSON'),\n",
       " ('Wolf', 'PERSON'),\n",
       " ('and', 'O'),\n",
       " ('Pope', 'PERSON'),\n",
       " ('saw', 'O'),\n",
       " ('their', 'O'),\n",
       " ('prospective', 'O'),\n",
       " ('personal', 'O'),\n",
       " ('fortunes', 'O'),\n",
       " ('continue', 'O'),\n",
       " ('to', 'O'),\n",
       " ('plummet', 'O'),\n",
       " ('as', 'O'),\n",
       " ('shares', 'O'),\n",
       " ('of', 'O'),\n",
       " ('UAL', 'ORGANIZATION'),\n",
       " (',', 'O'),\n",
       " ('United', 'ORGANIZATION'),\n",
       " (\"'s\", 'O'),\n",
       " ('parent', 'O'),\n",
       " ('company', 'O'),\n",
       " (',', 'O'),\n",
       " ('dived', 'O'),\n",
       " ('$', 'O'),\n",
       " ('24.875', 'O'),\n",
       " ('on', 'O'),\n",
       " ('the', 'O'),\n",
       " ('Big', 'ORGANIZATION'),\n",
       " ('Board', 'ORGANIZATION'),\n",
       " ('to', 'O'),\n",
       " ('close', 'O'),\n",
       " ('at', 'O'),\n",
       " ('$', 'O'),\n",
       " ('198', 'O'),\n",
       " ('.', 'O'),\n",
       " ('Including', 'O'),\n",
       " ('Monday', 'O'),\n",
       " (\"'s\", 'O'),\n",
       " ('plunge', 'O'),\n",
       " (',', 'O'),\n",
       " ('that', 'O'),\n",
       " ('has', 'O'),\n",
       " ('given', 'O'),\n",
       " ('the', 'O'),\n",
       " ('two', 'O'),\n",
       " ('executives', 'O'),\n",
       " ('paper', 'O'),\n",
       " ('losses', 'O'),\n",
       " ('of', 'O'),\n",
       " ('$', 'O'),\n",
       " ('49.5', 'O'),\n",
       " ('million', 'O'),\n",
       " (',', 'O'),\n",
       " ('based', 'O'),\n",
       " ('on', 'O'),\n",
       " ('what', 'O'),\n",
       " ('they', 'O'),\n",
       " ('would', 'O'),\n",
       " ('have', 'O'),\n",
       " ('realized', 'O'),\n",
       " ('had', 'O'),\n",
       " ('the', 'O'),\n",
       " ('pilots', 'O'),\n",
       " ('and', 'O'),\n",
       " ('management-led', 'O'),\n",
       " ('buy-out', 'O'),\n",
       " ('of', 'O'),\n",
       " ('UAL', 'ORGANIZATION'),\n",
       " ('gone', 'O'),\n",
       " ('through', 'O'),\n",
       " ('at', 'O'),\n",
       " ('$', 'O'),\n",
       " ('300', 'O'),\n",
       " ('a', 'O'),\n",
       " ('share', 'O'),\n",
       " ('.', 'O'),\n",
       " ('When', 'O'),\n",
       " ('bank', 'O'),\n",
       " ('financing', 'O'),\n",
       " ('for', 'O'),\n",
       " ('the', 'O'),\n",
       " ('buy-out', 'O'),\n",
       " ('collapsed', 'O'),\n",
       " ('last', 'O'),\n",
       " ('week', 'O'),\n",
       " (',', 'O'),\n",
       " ('so', 'O'),\n",
       " ('did', 'O'),\n",
       " ('UAL', 'ORGANIZATION'),\n",
       " (\"'s\", 'O'),\n",
       " ('stock', 'O'),\n",
       " ('.', 'O'),\n",
       " ('Even', 'O'),\n",
       " ('if', 'O'),\n",
       " ('the', 'O'),\n",
       " ('banks', 'O'),\n",
       " ('resurrect', 'O'),\n",
       " ('a', 'O'),\n",
       " ('financing', 'O'),\n",
       " ('package', 'O'),\n",
       " ('at', 'O'),\n",
       " ('$', 'O'),\n",
       " ('250', 'O'),\n",
       " ('a', 'O'),\n",
       " ('share', 'O'),\n",
       " (',', 'O'),\n",
       " ('the', 'O'),\n",
       " ('two', 'O'),\n",
       " ('executives', 'O'),\n",
       " ('would', 'O'),\n",
       " ('still', 'O'),\n",
       " ('get', 'O'),\n",
       " ('about', 'O'),\n",
       " ('$', 'O'),\n",
       " ('25', 'O'),\n",
       " ('million', 'O'),\n",
       " ('less', 'O'),\n",
       " ('than', 'O'),\n",
       " ('they', 'O'),\n",
       " ('stood', 'O'),\n",
       " ('to', 'O'),\n",
       " ('gain', 'O'),\n",
       " ('in', 'O'),\n",
       " ('the', 'O'),\n",
       " ('initial', 'O'),\n",
       " ('transaction', 'O'),\n",
       " ('.', 'O'),\n",
       " ('Mr.', 'O'),\n",
       " ('Wolf', 'PERSON'),\n",
       " ('owns', 'O'),\n",
       " ('75,000', 'O'),\n",
       " ('UAL', 'ORGANIZATION'),\n",
       " ('shares', 'O'),\n",
       " ('and', 'O'),\n",
       " ('has', 'O'),\n",
       " ('options', 'O'),\n",
       " ('to', 'O'),\n",
       " ('buy', 'O'),\n",
       " ('another', 'O'),\n",
       " ('250,000', 'O'),\n",
       " ('at', 'O'),\n",
       " ('$', 'O'),\n",
       " ('83.3125', 'O'),\n",
       " ('each', 'O'),\n",
       " ('.', 'O'),\n",
       " ('In', 'O'),\n",
       " ('the', 'O'),\n",
       " ('$', 'O'),\n",
       " ('300-a-share', 'O'),\n",
       " ('buyout', 'O'),\n",
       " (',', 'O'),\n",
       " ('that', 'O'),\n",
       " ('totaled', 'O'),\n",
       " ('about', 'O'),\n",
       " ('$', 'O'),\n",
       " ('76.7', 'O'),\n",
       " ('million', 'O'),\n",
       " ('.', 'O'),\n",
       " ('By', 'O'),\n",
       " ('yesterday', 'O'),\n",
       " (\"'s\", 'O'),\n",
       " ('close', 'O'),\n",
       " ('of', 'O'),\n",
       " ('trading', 'O'),\n",
       " (',', 'O'),\n",
       " ('it', 'O'),\n",
       " ('was', 'O'),\n",
       " ('good', 'O'),\n",
       " ('for', 'O'),\n",
       " ('a', 'O'),\n",
       " ('paltry', 'O'),\n",
       " ('$', 'O'),\n",
       " ('43.5', 'O'),\n",
       " ('million', 'O'),\n",
       " ('.', 'O'),\n",
       " ('Of', 'O'),\n",
       " ('course', 'O'),\n",
       " (',', 'O'),\n",
       " ('Mr.', 'O'),\n",
       " ('Wolf', 'PERSON'),\n",
       " (',', 'O'),\n",
       " ('48', 'O'),\n",
       " ('years', 'O'),\n",
       " ('old', 'O'),\n",
       " (',', 'O'),\n",
       " ('has', 'O'),\n",
       " ('some', 'O'),\n",
       " ('savings', 'O'),\n",
       " ('.', 'O'),\n",
       " ('He', 'O'),\n",
       " ('left', 'O'),\n",
       " ('his', 'O'),\n",
       " ('last', 'O'),\n",
       " ('two', 'O'),\n",
       " ('jobs', 'O'),\n",
       " ('at', 'O'),\n",
       " ('Republic', 'ORGANIZATION'),\n",
       " ('Airlines', 'ORGANIZATION'),\n",
       " ('and', 'O'),\n",
       " ('Flying', 'O'),\n",
       " ('Tiger', 'O'),\n",
       " ('with', 'O'),\n",
       " ('combined', 'O'),\n",
       " ('stock-option', 'O'),\n",
       " ('gains', 'O'),\n",
       " ('of', 'O'),\n",
       " ('about', 'O'),\n",
       " ('$', 'O'),\n",
       " ('22', 'O'),\n",
       " ('million', 'O'),\n",
       " (',', 'O'),\n",
       " ('and', 'O'),\n",
       " ('UAL', 'ORGANIZATION'),\n",
       " ('gave', 'O'),\n",
       " ('him', 'O'),\n",
       " ('a', 'O'),\n",
       " ('$', 'O'),\n",
       " ('15', 'O'),\n",
       " ('million', 'O'),\n",
       " ('bonus', 'O'),\n",
       " ('when', 'O'),\n",
       " ('it', 'O'),\n",
       " ('hired', 'O'),\n",
       " ('him', 'O'),\n",
       " ('.', 'O'),\n",
       " ('His', 'O'),\n",
       " ('1988', 'O'),\n",
       " ('salary', 'O'),\n",
       " ('was', 'O'),\n",
       " ('$', 'O'),\n",
       " ('575,000', 'O'),\n",
       " (',', 'O'),\n",
       " ('with', 'O'),\n",
       " ('a', 'O'),\n",
       " ('$', 'O'),\n",
       " ('575,000', 'O'),\n",
       " ('bonus', 'O'),\n",
       " ('.', 'O'),\n",
       " ('The', 'O'),\n",
       " ('40-year', 'O'),\n",
       " ('old', 'O'),\n",
       " ('Mr.', 'O'),\n",
       " ('Pope', 'PERSON'),\n",
       " ('has', 'O'),\n",
       " (\"n't\", 'O'),\n",
       " ('changed', 'O'),\n",
       " ('jobs', 'O'),\n",
       " ('enough', 'O'),\n",
       " ('--', 'O'),\n",
       " ('at', 'O'),\n",
       " ('least', 'O'),\n",
       " ('the', 'O'),\n",
       " ('right', 'O'),\n",
       " ('ones', 'O'),\n",
       " ('--', 'O'),\n",
       " ('to', 'O'),\n",
       " ('stash', 'O'),\n",
       " ('away', 'O'),\n",
       " ('that', 'O'),\n",
       " ('kind', 'O'),\n",
       " ('of', 'O'),\n",
       " ('money', 'O'),\n",
       " ('.', 'O'),\n",
       " ('United', 'ORGANIZATION'),\n",
       " ('paid', 'O'),\n",
       " ('him', 'O'),\n",
       " ('a', 'O'),\n",
       " ('$', 'O'),\n",
       " ('375,000', 'O'),\n",
       " ('bonus', 'O'),\n",
       " ('to', 'O'),\n",
       " ('lure', 'O'),\n",
       " ('him', 'O'),\n",
       " ('away', 'O'),\n",
       " ('from', 'O'),\n",
       " ('American', 'ORGANIZATION'),\n",
       " ('Airlines', 'ORGANIZATION'),\n",
       " (',', 'O'),\n",
       " ('and', 'O'),\n",
       " ('he', 'O'),\n",
       " ('was', 'O'),\n",
       " ('paid', 'O'),\n",
       " ('a', 'O'),\n",
       " ('salary', 'O'),\n",
       " ('of', 'O'),\n",
       " ('$', 'O'),\n",
       " ('342,122', 'O'),\n",
       " ('last', 'O'),\n",
       " ('year', 'O'),\n",
       " ('with', 'O'),\n",
       " ('a', 'O'),\n",
       " ('$', 'O'),\n",
       " ('280,000', 'O'),\n",
       " ('bonus', 'O'),\n",
       " ('.', 'O'),\n",
       " ('Mr.', 'O'),\n",
       " ('Pope', 'PERSON'),\n",
       " ('owns', 'O'),\n",
       " ('10,000', 'O'),\n",
       " ('UAL', 'ORGANIZATION'),\n",
       " ('shares', 'O'),\n",
       " ('and', 'O'),\n",
       " ('has', 'O'),\n",
       " ('options', 'O'),\n",
       " ('to', 'O'),\n",
       " ('buy', 'O'),\n",
       " ('another', 'O'),\n",
       " ('150,000', 'O'),\n",
       " ('at', 'O'),\n",
       " ('$', 'O'),\n",
       " ('69', 'O'),\n",
       " ('each', 'O'),\n",
       " ('.', 'O'),\n",
       " ('That', 'O'),\n",
       " ('came', 'O'),\n",
       " ('to', 'O'),\n",
       " ('a', 'O'),\n",
       " ('combined', 'O'),\n",
       " ('$', 'O'),\n",
       " ('37.7', 'O'),\n",
       " ('million', 'O'),\n",
       " ('under', 'O'),\n",
       " ('the', 'O'),\n",
       " ('$', 'O'),\n",
       " ('300-a-share', 'O'),\n",
       " ('buy-out', 'O'),\n",
       " (',', 'O'),\n",
       " ('but', 'O'),\n",
       " ('just', 'O'),\n",
       " ('$', 'O'),\n",
       " ('21.3', 'O'),\n",
       " ('million', 'O'),\n",
       " ('at', 'O'),\n",
       " ('yesterday', 'O'),\n",
       " (\"'s\", 'O'),\n",
       " ('close', 'O'),\n",
       " ('.', 'O'),\n",
       " ('Of', 'O'),\n",
       " ('the', 'O'),\n",
       " ('combined', 'O'),\n",
       " ('$', 'O'),\n",
       " ('114.4', 'O'),\n",
       " ('million', 'O'),\n",
       " ('the', 'O'),\n",
       " ('two', 'O'),\n",
       " ('men', 'O'),\n",
       " ('were', 'O'),\n",
       " ('scheduled', 'O'),\n",
       " ('to', 'O'),\n",
       " ('reap', 'O'),\n",
       " ('under', 'O'),\n",
       " ('the', 'O'),\n",
       " ('buy-out', 'O'),\n",
       " (',', 'O'),\n",
       " ('they', 'O'),\n",
       " ('agreed', 'O'),\n",
       " ('to', 'O'),\n",
       " ('invest', 'O'),\n",
       " ('in', 'O'),\n",
       " ('the', 'O'),\n",
       " ('buy-out', 'O'),\n",
       " ('just', 'O'),\n",
       " ('$', 'O'),\n",
       " ('15', 'O'),\n",
       " ('million', 'O'),\n",
       " (',', 'O'),\n",
       " ('angering', 'O'),\n",
       " ('many', 'O'),\n",
       " ('of', 'O'),\n",
       " ('the', 'O'),\n",
       " ('thousands', 'O'),\n",
       " ('of', 'O'),\n",
       " ('workers', 'O'),\n",
       " ('asked', 'O'),\n",
       " ('to', 'O'),\n",
       " ('make', 'O'),\n",
       " ('pay', 'O'),\n",
       " ('concessions', 'O'),\n",
       " ('so', 'O'),\n",
       " ('the', 'O'),\n",
       " ('buy-out', 'O'),\n",
       " ('would', 'O'),\n",
       " ('be', 'O'),\n",
       " ('a', 'O'),\n",
       " ('success', 'O'),\n",
       " ('.', 'O'),\n",
       " ('United', 'ORGANIZATION'),\n",
       " (\"'s\", 'O'),\n",
       " ('directors', 'O'),\n",
       " ('voted', 'O'),\n",
       " ('themselves', 'O'),\n",
       " (',', 'O'),\n",
       " ('and', 'O'),\n",
       " ('their', 'O'),\n",
       " ('spouses', 'O'),\n",
       " (',', 'O'),\n",
       " ('lifetime', 'O'),\n",
       " ('access', 'O'),\n",
       " ('to', 'O'),\n",
       " ('the', 'O'),\n",
       " ('Friendly', 'O'),\n",
       " ('Skies', 'O'),\n",
       " ('--', 'O'),\n",
       " ('free', 'O'),\n",
       " ('first-class', 'O'),\n",
       " ('travel', 'O'),\n",
       " (',', 'O'),\n",
       " ('and', 'O'),\n",
       " ('$', 'O'),\n",
       " ('20,000', 'O'),\n",
       " ('a', 'O'),\n",
       " ('year', 'O'),\n",
       " ('for', 'O'),\n",
       " ('life', 'O'),\n",
       " ('as', 'O'),\n",
       " ('well', 'O'),\n",
       " ('.', 'O'),\n",
       " ('Conceivably', 'O'),\n",
       " (',', 'O'),\n",
       " ('in', 'O'),\n",
       " ('a', 'O'),\n",
       " ('scaled-back', 'O'),\n",
       " ('buy-out', 'O'),\n",
       " (',', 'O'),\n",
       " ('they', 'O'),\n",
       " ('could', 'O'),\n",
       " ('be', 'O'),\n",
       " ('bumped', 'O'),\n",
       " ('back', 'O'),\n",
       " ('to', 'O'),\n",
       " ('coach', 'O'),\n",
       " ('seats', 'O'),\n",
       " ('for', 'O'),\n",
       " ('life', 'O'),\n",
       " ('.', 'O'),\n",
       " ('Thomas', 'PERSON'),\n",
       " ('H.', 'PERSON'),\n",
       " ('Johnson', 'PERSON'),\n",
       " ...]"
      ]
     },
     "execution_count": 53,
     "metadata": {},
     "output_type": "execute_result"
    }
   ],
   "source": [
    "stanford_ner_tagger.tag(test)"
   ]
  },
  {
   "cell_type": "markdown",
   "metadata": {},
   "source": [
    "Английский датасет с \"нормальными\" тэгами не нашел, поэтому просто запустил тэгер без проверки качества. Визуально работает хорошо)"
   ]
  }
 ],
 "metadata": {
  "kernelspec": {
   "display_name": "Python 3",
   "language": "python",
   "name": "python3"
  },
  "language_info": {
   "codemirror_mode": {
    "name": "ipython",
    "version": 3
   },
   "file_extension": ".py",
   "mimetype": "text/x-python",
   "name": "python",
   "nbconvert_exporter": "python",
   "pygments_lexer": "ipython3",
   "version": "3.5.2"
  }
 },
 "nbformat": 4,
 "nbformat_minor": 0
}
